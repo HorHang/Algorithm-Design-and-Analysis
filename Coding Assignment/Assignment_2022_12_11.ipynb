{
 "cells": [
  {
   "cell_type": "markdown",
   "id": "8c8275c0-d622-4c87-9472-230d38586325",
   "metadata": {},
   "source": [
    "# Test Long Term Question"
   ]
  },
  {
   "cell_type": "markdown",
   "id": "4a940ff2-895c-44f9-b678-7aa6866aa1f0",
   "metadata": {},
   "source": [
    "## Exercise Number 1:"
   ]
  },
  {
   "cell_type": "markdown",
   "id": "26e34537-2479-4131-840a-b3c0ecef660d",
   "metadata": {},
   "source": [
    "Given an array of integers nums which is sorted in ascending order, and an integer target, write a function to search target in nums. If target exists, then return its index. Otherwise, return -1.\n",
    "\n",
    "You must write an algorithm with O(log n) runtime complexity."
   ]
  },
  {
   "cell_type": "markdown",
   "id": "27b454d6-7738-4e10-a1c3-6216e1eb2880",
   "metadata": {},
   "source": [
    "Example: </br>\n",
    "Input: nums = [-1,0,3,5,9,12], target = 9</br>\n",
    "Output: 4</br>\n",
    "Explanation: 9 exists in nums and its index is 4"
   ]
  },
  {
   "cell_type": "code",
   "execution_count": 54,
   "id": "535bb4e2-77ef-4e8c-a7e0-d4ddfc53997e",
   "metadata": {},
   "outputs": [
    {
     "data": {
      "text/plain": [
       "4"
      ]
     },
     "execution_count": 54,
     "metadata": {},
     "output_type": "execute_result"
    }
   ],
   "source": [
    "def search(nums, target: int) -> int:\n",
    "\n",
    "### Auxilary function to find the item in the list\n",
    "    def search_aux(nums, target):\n",
    "        n = len(nums)\n",
    "        left = nums[:n//2]\n",
    "        right = nums[n//2:]\n",
    "        if target == nums[n//2]:\n",
    "            return True\n",
    "        if target != nums[n//2] and n == 1:\n",
    "            return -1\n",
    "        if target > nums[n//2]:\n",
    "            return search_aux(right,target)\n",
    "        if target < nums[n//2]:\n",
    "            return search_aux(left, target)\n",
    "\n",
    "### return the index of the item in the list\n",
    "    x = search_aux(nums,target)\n",
    "    if x == True:\n",
    "        return nums.index(target)\n",
    "    else:\n",
    "        return -1\n",
    "\n",
    "nums = [-1,0,3,5,9,12]\n",
    "target = 9\n",
    "search(nums,target)\n",
    "\n",
    "### Using binary search algorithm. The running time is therefore O(log n)"
   ]
  },
  {
   "cell_type": "code",
   "execution_count": 55,
   "id": "82c3dd6f",
   "metadata": {},
   "outputs": [
    {
     "data": {
      "text/plain": [
       "4"
      ]
     },
     "execution_count": 55,
     "metadata": {},
     "output_type": "execute_result"
    }
   ],
   "source": [
    "def search_opt(num,target):\n",
    "    n = len(num)\n",
    "    first = 0\n",
    "    last = n - 1\n",
    "    found = False\n",
    "    index = -1\n",
    "    while first <= last and not found:\n",
    "        mid = (first + last)//2\n",
    "        if num[mid] == target:\n",
    "            found = True\n",
    "            index = mid\n",
    "        elif num[mid] < target:\n",
    "            first = mid + 1\n",
    "        else:\n",
    "            last = mid - 1\n",
    "    return index\n",
    "\n",
    "nums = [-1,0,3,5,9,12]\n",
    "target = 9\n",
    "search_opt(nums,target)"
   ]
  },
  {
   "cell_type": "code",
   "execution_count": 56,
   "id": "e7398487",
   "metadata": {},
   "outputs": [
    {
     "name": "stdout",
     "output_type": "stream",
     "text": [
      "148 µs ± 1.58 µs per loop (mean ± std. dev. of 7 runs, 10,000 loops each)\n",
      "2.12 µs ± 49.8 ns per loop (mean ± std. dev. of 7 runs, 100,000 loops each)\n"
     ]
    }
   ],
   "source": [
    "import numpy as np\n",
    "import timeit\n",
    "\n",
    "target = 999\n",
    "nums = sorted(np.random.randint(-10000,10000,20000).tolist())\n",
    "\n",
    "%timeit search(nums,target)\n",
    "%timeit search_opt(nums,target)"
   ]
  },
  {
   "cell_type": "markdown",
   "id": "b4a1f3c9-8adf-458c-afed-302971101d91",
   "metadata": {},
   "source": [
    "## Exercise Number 2:"
   ]
  },
  {
   "cell_type": "markdown",
   "id": "a1de538c-412c-41c5-973f-4f09b6176c3d",
   "metadata": {},
   "source": [
    "You are given two binary trees root1 and root2.\n",
    "\n",
    "Imagine that when you put one of them to cover the other, some nodes of the two trees are overlapped while the others are not. You need to merge the two trees into a new binary tree. The merge rule is that if two nodes overlap, then sum node values up as the new value of the merged node. Otherwise, the NOT null node will be used as the node of the new tree.\n",
    "\n",
    "Return the merged tree.\n",
    "\n",
    "Note: The merging process must start from the root nodes of both trees. Just implement it as the tree already provide, you dont need give an example of doing that"
   ]
  },
  {
   "cell_type": "markdown",
   "id": "6ddc05bb-abc8-4924-bd73-9cdee58e608c",
   "metadata": {},
   "source": [
    "Example: </br>\n",
    "Input: root1 = [1,3,2,5], root2 = [2,1,3,null,4,null,7]</br>\n",
    "Output: [3,4,5,5,4,null,7]"
   ]
  },
  {
   "cell_type": "markdown",
   "id": "5e9f6274-d122-449d-9fee-895b0a7fb1c9",
   "metadata": {},
   "source": [
    "<img src=\"merge.jpg\"></img>"
   ]
  },
  {
   "cell_type": "code",
   "execution_count": 56,
   "id": "8e8a67e1-7d72-4408-9d34-252070a91c71",
   "metadata": {},
   "outputs": [
    {
     "data": {
      "text/plain": [
       "<__main__.TreeNode at 0x154efd79fd0>"
      ]
     },
     "execution_count": 56,
     "metadata": {},
     "output_type": "execute_result"
    }
   ],
   "source": [
    "class TreeNode:\n",
    "    def __init__(self, val=0, left=None, right=None):\n",
    "        self.key = val\n",
    "        self.left = left\n",
    "        self.right = right\n",
    "\n",
    "## Example of the first above tree construcation\n",
    "root1 = TreeNode(1)\n",
    "root1.left = TreeNode(3)\n",
    "root1.right = TreeNode(2)\n",
    "root1.left.left = TreeNode(5)\n",
    "\n",
    "root2 = TreeNode(2)\n",
    "root2.left = TreeNode(1)\n",
    "root2.right = TreeNode(3)\n",
    "root2.left.right = TreeNode(4)\n",
    "root2.right.right = TreeNode(7)\n",
    "\n",
    "def mergeTrees(root1,root2):\n",
    "    if not root1:\n",
    "        return root2\n",
    "    if not root2:\n",
    "        return root1\n",
    "    root1.key += root2.key\n",
    "    root1.left = mergeTrees(root1.left,root2.left)\n",
    "    root1.right = mergeTrees(root1.right,root2.right)\n",
    "    return root1\n",
    "\n",
    "root = mergeTrees(root1,root2)\n",
    "root"
   ]
  },
  {
   "cell_type": "code",
   "execution_count": 115,
   "id": "8b1bd205",
   "metadata": {},
   "outputs": [
    {
     "name": "stdout",
     "output_type": "stream",
     "text": [
      "3 4 5 5 4 7 "
     ]
    }
   ],
   "source": [
    "def printLevel(root, level):\n",
    "\n",
    "    # base case\n",
    "    if root is None:\n",
    "        return False\n",
    "\n",
    "    if level == 1:\n",
    "        print(root.key, end =\" \")\n",
    "\n",
    "        # return true if at least one node is present at a given level\n",
    "        return True\n",
    "\n",
    "    left = printLevel(root.left, level - 1)\n",
    "    right = printLevel(root.right, level - 1)\n",
    "\n",
    "    return left or right\n",
    "\n",
    "def levelOrderTraversal(root):\n",
    "\n",
    "    # start from level 1 — till the height of the tree\n",
    "    level = 1\n",
    "\n",
    "    # run till printLevel() returns false\n",
    "    while printLevel(root, level):\n",
    "        level = level + 1\n",
    "\n",
    "levelOrderTraversal(root)"
   ]
  },
  {
   "cell_type": "markdown",
   "id": "14440537-c0e7-4555-9175-c1563748cc8b",
   "metadata": {},
   "source": [
    "## Question 3"
   ]
  },
  {
   "cell_type": "markdown",
   "id": "152373bb-f965-44f4-bce5-fe31d7f9c5e9",
   "metadata": {},
   "source": [
    "You are given the heads of two sorted linked lists list1 and list2. </br>\n",
    "Merge the two lists in a one sorted list. The list should be made by splicing together the nodes of the first two lists.</br>\n",
    "Return the head of the merged linked list.</br>"
   ]
  },
  {
   "cell_type": "markdown",
   "id": "fe2d9235-b650-4f69-8773-c29f4a9c3cac",
   "metadata": {},
   "source": [
    "Example 1: </br>\n",
    "Input: list1 = [1,2,4], list2 = [1,3,4]</br>\n",
    "Output: [1,1,2,3,4,4]</br>"
   ]
  },
  {
   "cell_type": "markdown",
   "id": "1af49630-82e0-4899-a7e1-30a27ace3c92",
   "metadata": {},
   "source": [
    "<img src=\"merge_ex1.jpg\"></img>"
   ]
  },
  {
   "cell_type": "code",
   "execution_count": 12,
   "id": "dd97753d",
   "metadata": {},
   "outputs": [
    {
     "name": "stdout",
     "output_type": "stream",
     "text": [
      "1 -> 1 -> 2 -> 3 -> 4 -> 4 -> None\n"
     ]
    }
   ],
   "source": [
    "class ListNode:\n",
    "    def __init__(self, val=0, next=None):\n",
    "        self.val = val\n",
    "        self.next = None\n",
    "\n",
    "llk1 = ListNode(1)\n",
    "llk1.next = ListNode(2)\n",
    "next_llk1 = llk1.next\n",
    "next_llk1.next = ListNode(4)\n",
    "\n",
    "llk2 = ListNode(1)\n",
    "llk2.next = ListNode(3)\n",
    "next_llk2 = llk2.next\n",
    "next_llk2.next = ListNode(4)\n",
    "\n",
    "def mergeTwoLists(llk1,llk2):\n",
    "    if not llk1:\n",
    "        return llk2\n",
    "    if not llk2:\n",
    "        return llk1\n",
    "    if llk1.val <= llk2.val:\n",
    "        result = llk1\n",
    "        result.next = mergeTwoLists(llk1.next,llk2)\n",
    "    else:\n",
    "        result = llk2\n",
    "        result.next = mergeTwoLists(llk1,llk2.next)\n",
    "    return result\n",
    "\n",
    "def printList(llk):\n",
    "    ptr = llk\n",
    "    while ptr != None:\n",
    "        print(ptr.val, end=' -> ')\n",
    "        ptr = ptr.next\n",
    "    print('None')\n",
    "\n",
    "printList(mergeTwoLists(llk1,llk2))"
   ]
  }
 ],
 "metadata": {
  "kernelspec": {
   "display_name": "Python 3.9.13 64-bit (microsoft store)",
   "language": "python",
   "name": "python3"
  },
  "language_info": {
   "codemirror_mode": {
    "name": "ipython",
    "version": 3
   },
   "file_extension": ".py",
   "mimetype": "text/x-python",
   "name": "python",
   "nbconvert_exporter": "python",
   "pygments_lexer": "ipython3",
   "version": "3.9.13"
  },
  "vscode": {
   "interpreter": {
    "hash": "66456d18331bb78ef3daaeea1f2c80ef2c271c16ffb58481c755d6ac76881f4e"
   }
  }
 },
 "nbformat": 4,
 "nbformat_minor": 5
}
