{
 "cells": [
  {
   "cell_type": "markdown",
   "id": "be5338cb-d1fe-4fc0-8604-f83fd815d209",
   "metadata": {},
   "source": [
    "# Longterm Questions"
   ]
  },
  {
   "cell_type": "markdown",
   "id": "aa1d6ff7-bf26-480f-b71b-c8218adfe1b6",
   "metadata": {},
   "source": [
    "#### This test is inteneded to test your ability to reasoning out the tool that you recently study, in particular, pandas and numpy "
   ]
  },
  {
   "cell_type": "markdown",
   "id": "591a33c8-dbdb-4552-a2c4-ceba6e97f6db",
   "metadata": {},
   "source": [
    "### Q1- Why it is important to defined schema when reading data using pandas? \n",
    "#### Give an example if there anything could going terribly wrong if schema is not defined properly when reading data"
   ]
  },
  {
   "cell_type": "code",
   "execution_count": 207,
   "id": "e543a05c-9702-4b36-b243-05ef40961d38",
   "metadata": {},
   "outputs": [
    {
     "name": "stdout",
     "output_type": "stream",
     "text": [
      "Incorrect dtype assigment: -473.2212885154062\n",
      "Correct dtype assignment: 128909087.91516607\n"
     ]
    }
   ],
   "source": [
    "import pandas as pd\n",
    "import numpy as np\n",
    "import datetime as dt\n",
    "\n",
    "# During data reading, pandas try to search and match the dtype by itself. However, in big data with mixing of data dtype within column,\n",
    "# it'll take long time or leading to low memory usage when trying to read dtype.\n",
    "# So, manually dtype define is taken place.\n",
    "\n",
    "# when we define dtype incorrectly for example 'Volume': np.int16 in this case that is a big number that np.int16 cannot hold that number\n",
    "\n",
    "dtype1={'Date': 'str', 'Open': 'float', 'High': 'float', 'Low': 'float', 'Close': 'float',\\\n",
    "    'Volume': np.int16, 'String': 'str'}\n",
    "df1 = pd.read_csv(\"appl_1980_2014 (1).csv\", dtype=dtype1)\n",
    "\n",
    "dtype2={'Date': 'str', 'Open': 'float', 'High': 'float', 'Low': 'float', 'Close': 'float',\\\n",
    "    'Volume': np.int64, 'String': 'str'}\n",
    "df2 = pd.read_csv(\"appl_1980_2014 (1).csv\", dtype=dtype2)\n",
    "\n",
    "print(\"Incorrect dtype assigment:\", df1.Volume.mean())\n",
    "print(\"Correct dtype assignment:\", df2.Volume.mean())\n",
    "\n",
    "# Therefore, improper dtype defined could lead to error in calculation. "
   ]
  },
  {
   "cell_type": "markdown",
   "id": "e3dbebd7-af15-40df-bd9e-3d76444f1210",
   "metadata": {},
   "source": [
    "### Q2- What the different between column and row based operation? Why you need to use one over the other?\n",
    "#### Please give an example to justify your answer"
   ]
  },
  {
   "cell_type": "code",
   "execution_count": 206,
   "id": "aed8e031",
   "metadata": {},
   "outputs": [
    {
     "data": {
      "text/plain": [
       "Date\n",
       "2014-07-08     289.34\n",
       "2014-07-07     284.27\n",
       "2014-07-03     281.44\n",
       "2014-07-02     281.80\n",
       "2014-07-01     281.11\n",
       "               ...   \n",
       "2014-01-08    1623.18\n",
       "2014-01-07    1634.60\n",
       "2014-01-06    1621.70\n",
       "2014-01-03    1659.42\n",
       "2014-01-02    1668.39\n",
       "Length: 129, dtype: float64"
      ]
     },
     "execution_count": 206,
     "metadata": {},
     "output_type": "execute_result"
    }
   ],
   "source": [
    "import datetime as dt\n",
    "\n",
    "df2['Date'] = pd.to_datetime(df2['Date'])\n",
    "df2.set_index('Date', inplace=True)\n",
    "# In data analysis or related field, the data to be analyzed consists of few feautures shall be less than hundred column and examples\n",
    "# that have milions of row. For data in each column, it has the same data type. Therefore, it can be fastly manipulated by vectorization.\n",
    "# As below example, column based operation is prefered.\n",
    "\n",
    "vol_vectorize_sqrt = np.sqrt(df2['Volume'])\n",
    "\n",
    "# However, every features might have diffence feature that cannot be vectorized by column. Therefore, row-based operation is prefered.\n",
    "# As below example, we select index (i.e. row) whose year is above 2014 to do the operation\n",
    "\n",
    "df2[df2.index > np.datetime64('2014')].apply(lambda x: x['Open']*2 + x['High'*1], axis=1)"
   ]
  },
  {
   "cell_type": "markdown",
   "id": "734db506-134d-4075-b7ea-0545f54f11c8",
   "metadata": {},
   "source": [
    "### Q3- If you given set of datapoint in numpy array as array of outcome Y and array of input X, please write solution of linear regression in numpy format that fit through this datapoints. \n",
    "\n",
    "#### Hint: Your problem is Y=AX + B=> Find A, ignore B for now if you dont know what it should be (Try: Y=AX)."
   ]
  },
  {
   "cell_type": "code",
   "execution_count": 77,
   "id": "0c99dfe7",
   "metadata": {},
   "outputs": [
    {
     "name": "stdout",
     "output_type": "stream",
     "text": [
      "Parameter A: [1.  2.5 2.  2. ]\n",
      "Prediction: [14.]\n"
     ]
    }
   ],
   "source": [
    "import numpy as np\n",
    "# given an example of X_input & Y_output\n",
    "X = np.array([[3, 0, 2], [2, 0, -2], [0, 1, 1], [3, -1, 0]])\n",
    "Y = np.array([3, 1, -3])\n",
    "\n",
    "# Y = AX\n",
    "# where\n",
    "# Y = [y(0), y(1), ...., y(m)] with size (1, m)\n",
    "# X = [[x(0,0), x(0,1), ..., x(0,m)], ......., [x(n,0), x(n,1), x(n,2), ...x(n,m)]] with size (n,m) where n is the number of example, m is the number of features\n",
    "# the A must be in the form of [a(0), a(1), ....a(m)] with size (1,n) for the equation Y=AX to be valid\n",
    "\n",
    "# To solve the problem, we must find A where A = Y.X(Transpose).(X.X(transpose))^-1\n",
    "\n",
    "Xtrp = np.transpose(X)\n",
    "X_Xtrp = np.dot(X, Xtrp)\n",
    "Y_Xtrp = np.dot(Y, Xtrp)\n",
    "A = np.dot(Y_Xtrp, np.linalg.inv(X_Xtrp))\n",
    "\n",
    "print(f\"Parameter A: {A}\")\n",
    "\n",
    "# After obtaining A, we can insert it into Y=AX to predict the Y for any given X\n",
    "X_train = np.array([[3], [2], [0], [3]])\n",
    "\n",
    "Y_train = np.dot(A, X_train)\n",
    "print(f\"Prediction: {Y_train}\")"
   ]
  },
  {
   "cell_type": "markdown",
   "id": "071b02ad-5218-418a-9f43-75d2746baf58",
   "metadata": {},
   "source": [
    "# END"
   ]
  }
 ],
 "metadata": {
  "kernelspec": {
   "display_name": "Python 3.9.13 64-bit (windows store)",
   "language": "python",
   "name": "python3"
  },
  "language_info": {
   "codemirror_mode": {
    "name": "ipython",
    "version": 3
   },
   "file_extension": ".py",
   "mimetype": "text/x-python",
   "name": "python",
   "nbconvert_exporter": "python",
   "pygments_lexer": "ipython3",
   "version": "3.9.13"
  },
  "vscode": {
   "interpreter": {
    "hash": "66456d18331bb78ef3daaeea1f2c80ef2c271c16ffb58481c755d6ac76881f4e"
   }
  }
 },
 "nbformat": 4,
 "nbformat_minor": 5
}
