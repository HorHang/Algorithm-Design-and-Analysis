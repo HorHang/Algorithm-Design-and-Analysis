{
 "cells": [
  {
   "cell_type": "markdown",
   "id": "6f082b4a-7818-4d15-af42-2492bd3aaf9d",
   "metadata": {},
   "source": [
    "# Test Long Term Question"
   ]
  },
  {
   "cell_type": "markdown",
   "id": "fd56c5cb-8304-4369-875c-27d5eed22ca8",
   "metadata": {},
   "source": [
    "## Q1- Create a efficient algorithm that searches a m x n integer matrix for a value target. The characteristics of this matrix are as follows:\n",
    "\n",
    "### Each row's integers are sorted from left to right.\n",
    "\n",
    "### Each row's beginning integer is higher than the row's previous row's last integer."
   ]
  },
  {
   "cell_type": "markdown",
   "id": "679608d8-5e63-403a-b20f-516a17b85e63",
   "metadata": {},
   "source": [
    "Example: \n",
    "\n",
    "Input: matrix = [[1,3,5,7],[10,11,16,20],[23,30,34,60]], target = 3\n",
    "Output: true\n",
    "\n",
    "Input: matrix = [[1,3,5,7],[10,11,16,20],[23,30,34,60]], target = 13\n",
    "Output: false"
   ]
  },
  {
   "cell_type": "markdown",
   "id": "fd756d75",
   "metadata": {},
   "source": [
    "#### Q1.1 Brute Force Search Algorithm O(m*n)"
   ]
  },
  {
   "cell_type": "code",
   "execution_count": 70,
   "id": "75aabc9c",
   "metadata": {},
   "outputs": [
    {
     "data": {
      "text/plain": [
       "False"
      ]
     },
     "execution_count": 70,
     "metadata": {},
     "output_type": "execute_result"
    }
   ],
   "source": [
    "matrix = [[1,3,5,7],[10,11,16,20],[23,30,34,60],[64,67,68,69],[72,74,76,79]]\n",
    "target = 0\n",
    "\n",
    "def brute_force_search(A,target):\n",
    "    l = len(A)\n",
    "    k = len(A[0])\n",
    "    for i in range(l-1):\n",
    "        for j in range(k-1):\n",
    "            if A[i][j] == target:\n",
    "                return True\n",
    "    return False\n",
    "\n",
    "brute_force_search(matrix,target)"
   ]
  },
  {
   "cell_type": "markdown",
   "id": "707a1e3d",
   "metadata": {},
   "source": [
    "#### Q1.2 Linear Search Combined with Binary Search O(m*lg(n))"
   ]
  },
  {
   "cell_type": "code",
   "execution_count": 74,
   "id": "d765cde9",
   "metadata": {},
   "outputs": [],
   "source": [
    "matrix = [[1,3,5,7],[10,11,16,20],[23,30,34,60],[64,67,68,69],[72,74,76,79],[80,82,83,87],[91,93,96,99]]\n",
    "target = 20\n",
    "\n",
    "def binary_search(A,target):\n",
    "    idx = int(len(A)/2)\n",
    "    if len(A) == 1 and A[idx] != target:\n",
    "        return False\n",
    "    elif A[idx] > target:\n",
    "        return binary_search(A[:idx],target)\n",
    "    elif A[idx] < target:\n",
    "        return binary_search(A[idx:],target)\n",
    "    else:\n",
    "        return True\n",
    "\n",
    "def matrix_search(matrix,target):\n",
    "    l = len(matrix)\n",
    "    for i in range(l):\n",
    "        matrix_i = matrix[i]\n",
    "        if binary_search(matrix_i,target):\n",
    "            return True\n",
    "    return False\n",
    "\n",
    "# Unless we have large number of column, it won't provide much different running time comparing to brute-force."
   ]
  },
  {
   "cell_type": "markdown",
   "id": "f9128a78",
   "metadata": {},
   "source": [
    "### Q1.3 Double Binary Search O(lg(m) + lg(n))"
   ]
  },
  {
   "cell_type": "code",
   "execution_count": 242,
   "id": "a97f187c",
   "metadata": {},
   "outputs": [
    {
     "data": {
      "text/plain": [
       "True"
      ]
     },
     "execution_count": 242,
     "metadata": {},
     "output_type": "execute_result"
    }
   ],
   "source": [
    "matrix = [[1,3,5,7],[10,11,16,20],[23,30,34,60],[64,67,68,69],[72,74,76,79],[80,82,83,87],[91,93,96,99],[100,102,103,104],[110,111,112,115]]\n",
    "target = 3\n",
    "\n",
    "def column_search(A,k):\n",
    "    l = len(A)//2\n",
    "    # print(l,A[l][0],A[:l])\n",
    "    # print(A[l:])\n",
    "    # base case\n",
    "    if l == 0 and A[l][0] != k:\n",
    "        return A[l]\n",
    "    elif A[l][0] > k:\n",
    "        return column_search(A[:l],k)\n",
    "    elif A[l][0] < k:\n",
    "        return column_search(A[l:],k)\n",
    "    else:\n",
    "        return True\n",
    "\n",
    "# Access sublist & check only first value of the sublist\n",
    "\n",
    "def double_binary_search(A,k):\n",
    "    raw_matrix = column_search(A,k) # run in lg(m)\n",
    "    if raw_matrix == True or binary_search(raw_matrix,k) == True: # run in lg(n)\n",
    "        return True\n",
    "    return False\n",
    "\n",
    "double_binary_search(matrix,target)"
   ]
  },
  {
   "cell_type": "markdown",
   "id": "de20e15e",
   "metadata": {},
   "source": [
    "#### Running Time Comparison"
   ]
  },
  {
   "cell_type": "code",
   "execution_count": 259,
   "id": "e425ffbb",
   "metadata": {},
   "outputs": [
    {
     "name": "stdout",
     "output_type": "stream",
     "text": [
      "422 ms ± 5.87 ms per loop (mean ± std. dev. of 7 runs, 1 loop each)\n",
      "27.6 ms ± 525 µs per loop (mean ± std. dev. of 7 runs, 10 loops each)\n",
      "472 µs ± 25.5 µs per loop (mean ± std. dev. of 7 runs, 1,000 loops each)\n"
     ]
    }
   ],
   "source": [
    "import timeit\n",
    "import numpy as np\n",
    "matrix = np.arange(10000000).reshape(-1,100).tolist()\n",
    "target = 999999\n",
    "%timeit brute_force_search(matrix,target)\n",
    "%timeit matrix_search(matrix,target)\n",
    "%timeit double_binary_search(matrix,target)"
   ]
  },
  {
   "cell_type": "markdown",
   "id": "25a89b7e",
   "metadata": {},
   "source": [
    "### Conclusion\n",
    "##### As far as I know, we can use double binary search and provide 1000x speed improvement since the list is already in sorted order"
   ]
  },
  {
   "cell_type": "markdown",
   "id": "a85767e1-4abd-4f4c-9291-1737bbc952e2",
   "metadata": {},
   "source": [
    "## Q2- Explain Monty Hall problem? And Perform stimulation in simple python code with the provided skeleton code below:"
   ]
  },
  {
   "cell_type": "markdown",
   "id": "0351ec5e",
   "metadata": {},
   "source": [
    "##### The problem is there're three doors and a door contain a car while the other 2 doors contain a goat for each one. The game show, Monty Hall, let you pick one door and reveal one of the door that contains the goat. The question is shall we stick on the initial pick door or switch the door in order to win the car prize?\n",
    "##### The solution is that you shall switch since it provides double chances to win the car prize comparing to sticking on the initial pick, as it may seems conterintuitive. However, by conditioning on the door where Monty Hall revealed one of the goat door, the probability P = 2/3 for switching which is twice comparing to sticking to the initial pick, i.e. P = 1/3."
   ]
  },
  {
   "cell_type": "markdown",
   "id": "0ae2b161",
   "metadata": {},
   "source": [
    "#### One stimulation result\n",
    "#### For switch player:\n",
    "       right : 66753  and wrong: 33247\n",
    "#### For non-switch player:\n",
    "       right : 33247  and wrong: 66753\n",
    "\n",
    "#### Conclusion: The chance that win the prize by simulation approximately match with the calculated probability"
   ]
  },
  {
   "cell_type": "markdown",
   "id": "6f98cd4e-765f-4e9d-b347-eccdebaba751",
   "metadata": {},
   "source": [
    "## Q3- Explain the different between mutually exclusive and independent concept in probability. Why it is important to seperate between the two? How was the two affect the correlation of two events?"
   ]
  },
  {
   "cell_type": "markdown",
   "id": "654afb05",
   "metadata": {},
   "source": [
    "##### We say that two events are mutually exclusive if there's no intersection between the two. For instance, tossing a coin can only result in either head or tail but cannot be both, mathematically, P(X=x,Y=y) = 0, in terms of conditional probability P(X=x|Y=y) = P(X=x,Y=y)/P(Y=y) = 0. In contrast, Independant means that the knowledge of one event tells nothing about the other or won't change any probability of the other, mathematically, P(X=x|Y=y) = P(X=x). For instance, the occurence of head in first tossing coin tell nothing about the second tossing of the coin. It's also implies that if two events are independant, the probability of their intersection equal product of both two. Mathematically, P(X=x,Y=y) = P(X=x)P(Y=y). "
   ]
  },
  {
   "cell_type": "markdown",
   "id": "883ddc1a",
   "metadata": {},
   "source": [
    "##### It's important to separate because it provides the correlation between two events. While mutually exclusive implies occurence of event A results in non-occurence of event B, independant implies occurence of event A provide no new information to event B."
   ]
  },
  {
   "cell_type": "markdown",
   "id": "0d553a5b",
   "metadata": {},
   "source": [
    "##### If two random variables X,Y are independent, E[XY] = E[X]E[Y] implies Cov(X,Y) = E[XY] - E[X]E[Y] = 0. So, the random variable X,Y are uncorrelated. Therefore, event {X = x} and {Y = y} for all pair {x,y} are also uncorrelated. However, for two mutually exclusive random variable, E[XY] = 0 implies Cov(X,Y) = - E[X]E[Y] is non-zero, correlation is also non-zero. Therefore, it's correlated."
   ]
  },
  {
   "cell_type": "markdown",
   "id": "8bbf95fb",
   "metadata": {},
   "source": [
    "## Feedback"
   ]
  },
  {
   "cell_type": "markdown",
   "id": "9349c8ea",
   "metadata": {},
   "source": [
    "1- Good answer for recognized that you can use binary search in sorted array there, in sorted in both ways that you solution for double binary search\n",
    "\n",
    "2- The explanation on the problem itself show that you not really understand the problem why switching give you a better chance of winning at all\n",
    "try to see it why to fundamental problem until it make sense entirely like 1+1=2 \n",
    "(You also don't know exactly why 1+1=3 but mathematically it is make sense and experimentally) now you have experiment but you lack understanding\n",
    "\n",
    "3- Good answer"
   ]
  },
  {
   "cell_type": "markdown",
   "id": "7ca4aecf",
   "metadata": {},
   "source": [
    "## Q4 Additional Linear Algebra on Matrix Deconposition"
   ]
  },
  {
   "cell_type": "code",
   "execution_count": 275,
   "id": "f1e6a831",
   "metadata": {},
   "outputs": [],
   "source": [
    "# 17. Orthogonal Matrices and Gram-Schmidt\n",
    "# 1. Lecture 2: Multiplying and Factoring Matrices\n",
    "# Birthday Paradox ==> Lecture 3: Birthday Problem, Properties of Probability | Statistics 110 (Done)\n",
    "# Open Addressing, Hash Function, Universal Hash Function, Perfect Hashing (Done)\n",
    "# Monty Hall Problem (Done)\n",
    "# Simson's Paradox\n",
    "# Gambler's Ruin\n",
    "# Boy or Girl paradox"
   ]
  },
  {
   "cell_type": "markdown",
   "id": "c777b94f",
   "metadata": {},
   "source": [
    "# Two Weeks Goal!!!"
   ]
  },
  {
   "cell_type": "markdown",
   "id": "b8ae3346",
   "metadata": {},
   "source": [
    "#### Next Step: MIT 18.650 Statistics for Applications, Fall 2016\n",
    "#### Or\n",
    "#### https://www.coursera.org/learn/stanford-statistics/home/week/7\n",
    "#### Top famous paradox / problem in Probability & Statistics\n",
    "#### Advanced Algorithms (COMPSCI 224) & Algorithms for Big Data (COMPSCI 229r)\n",
    "#### https://leetcode.com/problemset/all/"
   ]
  },
  {
   "cell_type": "markdown",
   "id": "0652ae9f",
   "metadata": {},
   "source": []
  },
  {
   "cell_type": "code",
   "execution_count": 6,
   "id": "3d33ef75",
   "metadata": {},
   "outputs": [
    {
     "name": "stdout",
     "output_type": "stream",
     "text": [
      "User Current Version:- 3.9.13 (tags/v3.9.13:6de2ca5, May 17 2022, 16:36:42) [MSC v.1929 64 bit (AMD64)]\n"
     ]
    }
   ],
   "source": [
    "import sys\n",
    " \n",
    " \n",
    "print(\"User Current Version:-\", sys.version)"
   ]
  }
 ],
 "metadata": {
  "kernelspec": {
   "display_name": "Python 3.9.13 64-bit (windows store)",
   "language": "python",
   "name": "python3"
  },
  "language_info": {
   "codemirror_mode": {
    "name": "ipython",
    "version": 3
   },
   "file_extension": ".py",
   "mimetype": "text/x-python",
   "name": "python",
   "nbconvert_exporter": "python",
   "pygments_lexer": "ipython3",
   "version": "3.9.13"
  },
  "vscode": {
   "interpreter": {
    "hash": "66456d18331bb78ef3daaeea1f2c80ef2c271c16ffb58481c755d6ac76881f4e"
   }
  }
 },
 "nbformat": 4,
 "nbformat_minor": 5
}
