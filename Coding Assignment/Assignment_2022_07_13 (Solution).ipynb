{
 "cells": [
  {
   "cell_type": "markdown",
   "id": "d32e9aaf-4f0e-429b-bd24-af9cd9f1db75",
   "metadata": {},
   "source": [
    "### Questions"
   ]
  },
  {
   "cell_type": "markdown",
   "id": "2a048a4b-89bc-417a-951d-65f82ba8b8df",
   "metadata": {},
   "source": [
    "#### This test is inteneded to test your ability to reasoning out the tool that you recently study, in particular, pandas and numpy "
   ]
  },
  {
   "cell_type": "markdown",
   "id": "b3c1d34c-e6fc-4f6d-ac5b-f72827325e4b",
   "metadata": {},
   "source": [
    "##### Q1: What is the cencept of vetorization in numpy and why it is important? Is there way to use vectorization in pandas? If exist, please provide example and test speed by using %%time in notebook"
   ]
  },
  {
   "cell_type": "code",
   "execution_count": 155,
   "id": "3b258e9e-f835-44de-9631-9b56c668cf86",
   "metadata": {},
   "outputs": [
    {
     "name": "stdout",
     "output_type": "stream",
     "text": [
      "1.9 ms ± 11.6 µs per loop (mean ± std. dev. of 7 runs, 100 loops each)\n",
      "7.25 µs ± 199 ns per loop (mean ± std. dev. of 7 runs, 100,000 loops each)\n"
     ]
    }
   ],
   "source": [
    "# Everytime we run \"for loop\", python goes to check every element's properties such as element type etc. that is slow down the \n",
    "# computation. To overcome issue, Numpy come into play.\n",
    "# The concept of Numpy is that it stores the elements such as list/tuple/dict in array homogeneous format that allows batch\n",
    "# operation on element-wise which hugely improve the computation time.\n",
    "\n",
    "import numpy as np\n",
    "import pandas as pd\n",
    "import timeit\n",
    "\n",
    "np.random.seed(30)\n",
    "myArray = np.arange(10000)\n",
    "myList = list(range(10000))\n",
    "\n",
    "# non-vectorization\n",
    "%timeit nonvec_result = [element ** 2 for element in myList]\n",
    "\n",
    "\n",
    "# vectorization in numpy\n",
    "%timeit vec_result = myArray ** 2\n",
    "\n",
    "# Given above example, vectorization can hugely improve performance by hundreds time.\n",
    "\n"
   ]
  },
  {
   "cell_type": "code",
   "execution_count": 156,
   "id": "d3d9b5f0-4109-4c43-9679-c2776ecff22a",
   "metadata": {},
   "outputs": [
    {
     "name": "stdout",
     "output_type": "stream",
     "text": [
      "60.2 µs ± 3.71 µs per loop (mean ± std. dev. of 7 runs, 10,000 loops each)\n",
      "293 µs ± 9.55 µs per loop (mean ± std. dev. of 7 runs, 1,000 loops each)\n"
     ]
    }
   ],
   "source": [
    "# Of course, we can use vectorization in pandas. For instance,\n",
    "\n",
    "\n",
    "series = pd.Series(myArray)\n",
    "\n",
    "%timeit vec_mean = np.mean(series)\n",
    "\n",
    "def nonvec_mean(myList):\n",
    "    total = 0\n",
    "    for num in myList:\n",
    "        total = total + num\n",
    "    avg = total / len(myList)\n",
    "    return avg\n",
    "\n",
    "%timeit nonvec_mean(myList)\n",
    "\n",
    "\n",
    "# from above example, vectorization can improve the performance nearly 5 times."
   ]
  },
  {
   "cell_type": "markdown",
   "id": "9d0e4012-f084-4a99-9e0d-31246841bd77",
   "metadata": {},
   "source": [
    "#### Q2: Describe the important reason why you should consider using indexing when join between dataframe?"
   ]
  },
  {
   "cell_type": "code",
   "execution_count": 157,
   "id": "da9aa0dc-01a4-47ae-99aa-47958c87742e",
   "metadata": {},
   "outputs": [
    {
     "data": {
      "text/html": [
       "<div>\n",
       "<style scoped>\n",
       "    .dataframe tbody tr th:only-of-type {\n",
       "        vertical-align: middle;\n",
       "    }\n",
       "\n",
       "    .dataframe tbody tr th {\n",
       "        vertical-align: top;\n",
       "    }\n",
       "\n",
       "    .dataframe thead th {\n",
       "        text-align: right;\n",
       "    }\n",
       "</style>\n",
       "<table border=\"1\" class=\"dataframe\">\n",
       "  <thead>\n",
       "    <tr style=\"text-align: right;\">\n",
       "      <th></th>\n",
       "      <th>A</th>\n",
       "      <th>B</th>\n",
       "      <th>C</th>\n",
       "      <th>D</th>\n",
       "    </tr>\n",
       "  </thead>\n",
       "  <tbody>\n",
       "    <tr>\n",
       "      <th>2022-08-01</th>\n",
       "      <td>A0</td>\n",
       "      <td>B0</td>\n",
       "      <td>C0</td>\n",
       "      <td>D0</td>\n",
       "    </tr>\n",
       "    <tr>\n",
       "      <th>2022-08-02</th>\n",
       "      <td>A1</td>\n",
       "      <td>B1</td>\n",
       "      <td>C1</td>\n",
       "      <td>D1</td>\n",
       "    </tr>\n",
       "    <tr>\n",
       "      <th>2022-08-03</th>\n",
       "      <td>A2</td>\n",
       "      <td>B2</td>\n",
       "      <td>C2</td>\n",
       "      <td>D2</td>\n",
       "    </tr>\n",
       "    <tr>\n",
       "      <th>2022-08-04</th>\n",
       "      <td>A3</td>\n",
       "      <td>B3</td>\n",
       "      <td>C3</td>\n",
       "      <td>D3</td>\n",
       "    </tr>\n",
       "    <tr>\n",
       "      <th>2022-08-05</th>\n",
       "      <td>A4</td>\n",
       "      <td>B4</td>\n",
       "      <td>C4</td>\n",
       "      <td>D4</td>\n",
       "    </tr>\n",
       "    <tr>\n",
       "      <th>2022-08-06</th>\n",
       "      <td>A5</td>\n",
       "      <td>B5</td>\n",
       "      <td>C5</td>\n",
       "      <td>D5</td>\n",
       "    </tr>\n",
       "    <tr>\n",
       "      <th>2022-08-07</th>\n",
       "      <td>A6</td>\n",
       "      <td>B6</td>\n",
       "      <td>C6</td>\n",
       "      <td>D6</td>\n",
       "    </tr>\n",
       "  </tbody>\n",
       "</table>\n",
       "</div>"
      ],
      "text/plain": [
       "             A   B   C   D\n",
       "2022-08-01  A0  B0  C0  D0\n",
       "2022-08-02  A1  B1  C1  D1\n",
       "2022-08-03  A2  B2  C2  D2\n",
       "2022-08-04  A3  B3  C3  D3\n",
       "2022-08-05  A4  B4  C4  D4\n",
       "2022-08-06  A5  B5  C5  D5\n",
       "2022-08-07  A6  B6  C6  D6"
      ]
     },
     "execution_count": 157,
     "metadata": {},
     "output_type": "execute_result"
    }
   ],
   "source": [
    "# In real world data query from database, it is frequently occured that the result obtains from different query\n",
    "# contains duplicate value reconized by any single key value.\n",
    "# Let consider below 2 data frames that have duplacated date, i.e '2022-08-04'.\n",
    "\n",
    "df1 = pd.DataFrame(\n",
    "    {\n",
    "        \"A\": [\"A0\", \"A1\", \"A2\", \"A3\"],\n",
    "        \"B\": [\"B0\", \"B1\", \"B2\", \"B3\"],\n",
    "        \"C\": [\"C0\", \"C1\", \"C2\", \"C3\"],\n",
    "        \"D\": [\"D0\", \"D1\", \"D2\", \"D3\"],\n",
    "    },\n",
    "    index=['2022-08-01', '2022-08-02', '2022-08-03', '2022-08-04'],\n",
    ")\n",
    "\n",
    "df2 = pd.DataFrame(\n",
    "    {\n",
    "        \"A\": [\"A3\", \"A4\", \"A5\", \"A6\"],\n",
    "        \"B\": [\"B3\", \"B4\", \"B5\", \"B6\"],\n",
    "        \"C\": [\"C3\", \"C4\", \"C5\", \"C6\"],\n",
    "        \"D\": [\"D3\", \"D4\", \"D5\", \"D6\"],\n",
    "    },\n",
    "    index=['2022-08-04', '2022-08-05', '2022-08-06', '2022-08-07'],\n",
    ")\n",
    "\n",
    "df = df1.combine_first(df2)\n",
    "\n",
    "df\n",
    "\n",
    "# From above result, by considering indexing, we can remove the duplicate value & obtain only single date"
   ]
  },
  {
   "cell_type": "markdown",
   "id": "43364e60-2164-4884-a255-a749b5f5ac2d",
   "metadata": {},
   "source": [
    "#### Q3: When and why you should consider using numpy array instead of using pandas dataframe?"
   ]
  },
  {
   "cell_type": "code",
   "execution_count": 180,
   "id": "f49e1e74-c577-440e-b247-0e6482be5124",
   "metadata": {},
   "outputs": [
    {
     "name": "stdout",
     "output_type": "stream",
     "text": [
      "684 ns ± 18.3 ns per loop (mean ± std. dev. of 7 runs, 1,000,000 loops each)\n",
      "66.3 µs ± 672 ns per loop (mean ± std. dev. of 7 runs, 10,000 loops each)\n"
     ]
    }
   ],
   "source": [
    "# We shoud consider to work with numpy when it's required to do complex mathematical computation on multidimentional array\n",
    "# With numpy, it is insanely improved the performance by nearly hundred time\n",
    "\n",
    "myArray1 = np.arange(10000).reshape(1000,-1)\n",
    "myArray1\n",
    "\n",
    "df1 = pd.DataFrame(myArray1)\n",
    "df1\n",
    "\n",
    "%timeit np.transpose(myArray1)\n",
    "\n",
    "%timeit df1.transpose()\n"
   ]
  },
  {
   "cell_type": "markdown",
   "id": "ffbe0aeb-f449-44a2-a261-b2a0a57c1ccd",
   "metadata": {},
   "source": [
    "#### Q4: What are the different between list.append() and sum list operation? For example, list.append(1) vs list+[1]"
   ]
  },
  {
   "cell_type": "code",
   "execution_count": 50,
   "id": "2666a87c-a5d6-4f1d-85dc-58d6fa911e16",
   "metadata": {},
   "outputs": [
    {
     "name": "stdout",
     "output_type": "stream",
     "text": [
      "a: [1, 2, 3, 1]\n",
      "b: None\n",
      "d: [1, 2, 3, 1]\n"
     ]
    }
   ],
   "source": [
    "#list.append()\n",
    "\n",
    "a = [1, 2, 3]\n",
    "b = a.append(1)\n",
    "print(\"a:\", a)\n",
    "print(\"b:\", b)\n",
    "\n",
    "# list.append() add pass-in value into the list in-place without copying it and without create new list. So, if we try to assign a value into\n",
    "# list.append() it returns the special character \"b: None\" because the .append() method doesn't create new list that contains value pass-in\n",
    "# However, a.append(1) added 1 into the a list when we do operation c = a.append(1). So, when to print a, it return the value that contains added 1.\n",
    "\n",
    "\n",
    "#sum list\n",
    "\n",
    "c = [1, 2, 3]\n",
    "d = d + [1]\n",
    "\n",
    "print(\"d:\", d)\n",
    "\n",
    "# In contrast for the sum list, it will copy the list, add the value and create the new list contains those values and assign to \"d\".\n"
   ]
  },
  {
   "cell_type": "markdown",
   "id": "a342242a-40ed-440a-933f-f56afd1d2142",
   "metadata": {},
   "source": [
    "#### Q5: What is the output of the following code? and what is the final type of the output return"
   ]
  },
  {
   "cell_type": "raw",
   "id": "e802eeed-d637-4b65-a470-31a174594789",
   "metadata": {},
   "source": [
    "x=10\n",
    "def test_x(x=9):\n",
    "    x = x + 10\n",
    "    test_x2(x)\n",
    "    return x\n",
    "def test_x2(x=8):\n",
    "    return 10\n",
    "test_x(100.1)\n",
    "\n",
    "\n",
    "# test_x function add 10 to x value if there's argument pass in it. Without given x value, test_x function will take 9 as default x value\n",
    "# and add 10 to it and return x value. Given x=100.1 in this case, x = 100.1 + 10 = 110.1. Even thouth test_x2 is insert into test_x function\n",
    "# it just accepts x=110.1 as input but do nothing with the value x. So, the final output is still 110.1."
   ]
  },
  {
   "cell_type": "markdown",
   "id": "74cfd572-7fef-4979-8917-44106081633c",
   "metadata": {},
   "source": [
    "### End"
   ]
  }
 ],
 "metadata": {
  "kernelspec": {
   "display_name": "Python 3.9.13 64-bit (windows store)",
   "language": "python",
   "name": "python3"
  },
  "language_info": {
   "codemirror_mode": {
    "name": "ipython",
    "version": 3
   },
   "file_extension": ".py",
   "mimetype": "text/x-python",
   "name": "python",
   "nbconvert_exporter": "python",
   "pygments_lexer": "ipython3",
   "version": "3.9.13"
  },
  "vscode": {
   "interpreter": {
    "hash": "66456d18331bb78ef3daaeea1f2c80ef2c271c16ffb58481c755d6ac76881f4e"
   }
  }
 },
 "nbformat": 4,
 "nbformat_minor": 5
}
