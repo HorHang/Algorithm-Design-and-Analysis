{
 "cells": [
  {
   "cell_type": "code",
   "execution_count": 44,
   "metadata": {},
   "outputs": [
    {
     "data": {
      "text/plain": [
       "({(0, 1): 10, (1, 3): 12, (2, 6): 15, (5, 2): 11},\n",
       " [[0, 10, 10, 10, 0, 0, 0],\n",
       "  [10, 0, 0, 9, 6, 0, 0],\n",
       "  [10, 0, 0, 0, 0, 11, 15],\n",
       "  [10, 9, 0, 0, 0, 0, 0],\n",
       "  [0, 6, 0, 0, 0, 11, 0],\n",
       "  [0, 0, 11, 0, 11, 0, 11],\n",
       "  [0, 0, 15, 0, 0, 11, 8]],\n",
       " [[0, 0, 10, 10, 0, 0, 0],\n",
       "  [10, 0, 0, 0, 0, 0, 0],\n",
       "  [0, 0, 0, 0, 0, 11, 0],\n",
       "  [0, 9, 0, 0, 0, 0, 0],\n",
       "  [0, 6, 0, 0, 0, 0, 0],\n",
       "  [0, 0, 0, 0, 11, 0, 11],\n",
       "  [0, 0, 15, 0, 0, 0, 8]])"
      ]
     },
     "execution_count": 44,
     "metadata": {},
     "output_type": "execute_result"
    }
   ],
   "source": [
    "graph = [[4,10,10,10,2,9,3],\n",
    "         [6,8,5,12,9,7,2],\n",
    "         [11,9,6,7,9,5,15],\n",
    "         [3,9,6,7,5,6,3],\n",
    "         [2,6,5,3,2,4,2],\n",
    "         [10,8,11,4,11,2,11],\n",
    "         [3,4,5,4,3,6,8]]\n",
    "\n",
    "class Graph:\n",
    "    def __init__(self, graph):\n",
    "        self.graph = graph\n",
    "        self.num_node = len(graph)\n",
    "        self.Gh = [[0]*self.num_node for _ in range(self.num_node)] # equality undirected subgraph\n",
    "        self.GMh = [[0]*self.num_node for _ in range(self.num_node)] # equality directed subgraph\n",
    "        self.lh = [max(row) for row in self.graph] # left label\n",
    "        self.rh = [0]*self.num_node # right label\n",
    "        self.ls = [0 for i in range(self.num_node)] # left set\n",
    "        self.rs = [0 for i in range(self.num_node)] # right set\n",
    "    \n",
    "    def hungarian(self):\n",
    "        M, self.Gh, self.GMh = self.greedy_bipartite_matching(graph)\n",
    "        while len(M) != self.num_node: # M is not a perfect matching in Gh\n",
    "            P = self.find_augmenting_path(self.GMh)\n",
    "        return M\n",
    "\n",
    "    def find_augmenting_path(self, GMh):\n",
    "        pass\n",
    "\n",
    "    def greedy_bipartite_matching(self, w):\n",
    "        M = {}\n",
    "        for l in range(len(self.ls)):\n",
    "            for r in range(len(self.rs)):\n",
    "                if self.lh[l] + self.rh[r] == w[l][r]:\n",
    "                    self.Gh[l][r] = w[l][r]\n",
    "                    self.Gh[r][l] = w[l][r]\n",
    "                    self.GMh[l][r] = w[l][r] # direct all the unmatched from left to right\n",
    "                    if self.ls[l] == 0 and self.rs[r] == 0:\n",
    "                        M[(l,r)] = w[l][r]\n",
    "                        self.ls[l] = 1 # marked as matched vertex\n",
    "                        self.rs[r] = 1 # marked as matched vertex\n",
    "                        self.GMh[l][r] = 0 # reverse the direction\n",
    "                        self.GMh[r][l] = w[l][r] # direct the match from right to left\n",
    "        return M, self.Gh, self.GMh\n",
    "\n",
    "g = Graph(graph)\n",
    "g.hungarian()"
   ]
  }
 ],
 "metadata": {
  "kernelspec": {
   "display_name": "Python 3",
   "language": "python",
   "name": "python3"
  },
  "language_info": {
   "codemirror_mode": {
    "name": "ipython",
    "version": 3
   },
   "file_extension": ".py",
   "mimetype": "text/x-python",
   "name": "python",
   "nbconvert_exporter": "python",
   "pygments_lexer": "ipython3",
   "version": "3.11.5"
  },
  "orig_nbformat": 4
 },
 "nbformat": 4,
 "nbformat_minor": 2
}
