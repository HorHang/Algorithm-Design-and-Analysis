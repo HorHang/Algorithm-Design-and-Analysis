{
 "cells": [
  {
   "cell_type": "markdown",
   "metadata": {},
   "source": [
    "Coin Change II (medium)"
   ]
  },
  {
   "cell_type": "code",
   "execution_count": 297,
   "metadata": {},
   "outputs": [
    {
     "data": {
      "text/plain": [
       "4"
      ]
     },
     "execution_count": 297,
     "metadata": {},
     "output_type": "execute_result"
    }
   ],
   "source": [
    "amount = 5\n",
    "coins = [1,2,5]\n",
    "\n",
    "def change(amount, coins):\n",
    "        c = [0] * (amount + 1)\n",
    "        c[0] = 1\n",
    "        for coin in coins:\n",
    "            for i in range(coin, amount+1):\n",
    "                c[i] += c[i-coin]\n",
    "        return c[amount]\n",
    "\n",
    "change(amount, coins)"
   ]
  },
  {
   "cell_type": "markdown",
   "metadata": {},
   "source": [
    "Palindrome Number (easy)"
   ]
  },
  {
   "cell_type": "code",
   "execution_count": 298,
   "metadata": {},
   "outputs": [
    {
     "data": {
      "text/plain": [
       "False"
      ]
     },
     "execution_count": 298,
     "metadata": {},
     "output_type": "execute_result"
    }
   ],
   "source": [
    "x = -121\n",
    "\n",
    "def isPalinedrome(x):\n",
    "    st = str(x)\n",
    "    m = len(st)//2\n",
    "    for i in range(m+1):\n",
    "        if st[i] != st[len(st)-1-i]:\n",
    "            return False\n",
    "    return True\n",
    "\n",
    "isPalinedrome(x)"
   ]
  },
  {
   "cell_type": "markdown",
   "metadata": {},
   "source": [
    "Partition List (medium)"
   ]
  },
  {
   "cell_type": "code",
   "execution_count": 503,
   "metadata": {},
   "outputs": [
    {
     "name": "stdout",
     "output_type": "stream",
     "text": [
      "1\n",
      "2\n",
      "2\n",
      "4\n",
      "3\n",
      "5\n"
     ]
    }
   ],
   "source": [
    "class ListNode:\n",
    "    def __init__(self, val=0, next=None):\n",
    "        self.val = val\n",
    "        self.next = next\n",
    "\n",
    "def singly_llk(lst):\n",
    "    head = ListNode(lst[0])\n",
    "    p = head\n",
    "    for n in lst[1:]:\n",
    "        p.next = ListNode(n)\n",
    "        p = p.next\n",
    "    return head\n",
    "\n",
    "def print_llk(head):\n",
    "    while head:\n",
    "        print(head.val)\n",
    "        head = head.next\n",
    "\n",
    "def partition(head, x):\n",
    "    hl, hr  = ListNode(), ListNode()\n",
    "    curr_hl, curr_hr = hl, hr\n",
    "\n",
    "    while head:\n",
    "        if head.val >= x:\n",
    "            curr_hr.next = head\n",
    "            curr_hr = head\n",
    "        else:\n",
    "            curr_hl.next = head\n",
    "            curr_hl = head\n",
    "        head = head.next\n",
    "    \n",
    "    curr_hr.next = None\n",
    "    curr_hl.next = hr.next\n",
    "    return hl.next\n",
    "\n",
    "lst = [1,4,3,2,5,2]\n",
    "head = singly_llk(lst)\n",
    "llk = partition(head, x)\n",
    "print_llk(llk)"
   ]
  },
  {
   "cell_type": "markdown",
   "metadata": {},
   "source": [
    "Combinations (Medium)"
   ]
  },
  {
   "cell_type": "code",
   "execution_count": 169,
   "metadata": {},
   "outputs": [],
   "source": [
    "n = 4\n",
    "k = 2\n",
    "\n",
    "def combine(n, k):\n",
    "    pass\n",
    "\n",
    "combine(n, k)"
   ]
  },
  {
   "cell_type": "code",
   "execution_count": 252,
   "metadata": {},
   "outputs": [
    {
     "name": "stdout",
     "output_type": "stream",
     "text": [
      "[[0, 0, 1, 0], [1, 0, 0, 0], [0, 0, 0, 1], [0, 1, 0, 0]]\n",
      "[[0, 1, 0, 0], [0, 0, 0, 1], [1, 0, 0, 0], [0, 0, 1, 0]]\n"
     ]
    }
   ],
   "source": [
    "#Programming for the Puzzled -- Srini Devadas\n",
    "#Keep Those Queens Apart\n",
    "#Given a 4 x 4 \"chess\" board, figure out how to place 4 Queens such that\n",
    "#no Queen attacks another queen.\n",
    "#This code uses a two-dimensional list or matrix data structure\n",
    "\n",
    "#This procedure checks that the most recently placed queen on column current\n",
    "#does not conflict with queens in columns to the left.\n",
    "def noConflicts(board, current, qindex, n = 4):\n",
    "    \n",
    "##    #We do not need this check given how we call noConflicts()\n",
    "##    #Check that there is a single 1 in the current column\n",
    "##    ones = 0\n",
    "##    for i in range(n):\n",
    "##        if board[i][current] == 1:\n",
    "##            ones += 1\n",
    "##            qindex = i\n",
    "##    if ones > 1:\n",
    "##        return False\n",
    "\n",
    "    #check that the row on which the current queen is only has one queen on it\n",
    "    for j in range(current):\n",
    "        if board[qindex][j] == 1:\n",
    "            return False\n",
    "\n",
    "    #Check the two diagonals from the current queen\n",
    "    #The first loop is for the diagonal /\n",
    "    #The second loop is for the diagonal \\\n",
    "    k = 1\n",
    "    while qindex - k >= 0 and current - k >= 0:\n",
    "        if board[qindex - k][current - k] == 1:\n",
    "            return False\n",
    "        k += 1\n",
    "    k = 1\n",
    "    while qindex + k < n and current - k >= 0:\n",
    "        if board[qindex + k][current - k] == 1:\n",
    "            return False\n",
    "        k += 1\n",
    "\n",
    "    return True \n",
    "\n",
    "\n",
    "#This procedure places 4 Queens on a board so they don't conflict\n",
    "#It assumes n = 4 and won't work with other n!\n",
    "def FourQueens(n=4):\n",
    "    #Initialize the board to be empty\n",
    "    board = [ [0, 0, 0, 0],\n",
    "              [0, 0, 0, 0],\n",
    "              [0, 0, 0, 0],\n",
    "              [0, 0, 0, 0] ]\n",
    "\n",
    "    #Place a queen a column at a time beginning with leftmost column\n",
    "    for i in range(n):\n",
    "        board[i][0] = 1\n",
    "        for j in range(n):\n",
    "            board[j][1] = 1\n",
    "            if noConflicts(board, 1, j, n):\n",
    "                for k in range(n):\n",
    "                    board[k][2] = 1\n",
    "                    if noConflicts(board, 2, k, n):\n",
    "                        for m in range(n):\n",
    "                            board[m][3] = 1\n",
    "                            if noConflicts(board, 3, m, n):\n",
    "                                print (board)\n",
    "                            board[m][3] = 0\n",
    "                    board[k][2] = 0\n",
    "            board[j][1] = 0\n",
    "        board[i][0] = 0\n",
    "    return\n",
    "\n",
    "\n",
    "FourQueens()"
   ]
  },
  {
   "cell_type": "code",
   "execution_count": 173,
   "metadata": {},
   "outputs": [
    {
     "name": "stdout",
     "output_type": "stream",
     "text": [
      "[0, 4, 7, 5, 2, 6, 1, 3]\n",
      "[0, 5, 7, 2, 6, 3, 1, 4]\n",
      "[0, 6, 3, 5, 7, 1, 4, 2]\n",
      "[0, 6, 4, 7, 1, 3, 5, 2]\n",
      "[1, 3, 5, 7, 2, 0, 6, 4]\n",
      "[1, 4, 6, 0, 2, 7, 5, 3]\n",
      "[1, 4, 6, 3, 0, 7, 5, 2]\n"
     ]
    }
   ],
   "source": [
    "#Programming for the Puzzled -- Srini Devadas\n",
    "#Keep Those Queens Apart\n",
    "#Given a 8 x 8 chess board, figure out how to place 8 Queens such that\n",
    "#no Queen attacks another queen.\n",
    "#This code uses a single-dimensional list to represent Queen positions\n",
    "\n",
    "#Exercise 1: Add number of solutions to be printed\n",
    "\n",
    "#This procedure checks that the most recently placed queen on the board on column\n",
    "#current does not conflict with existing queens.\n",
    "def noConflicts(board, current):\n",
    "    for i in range(current):\n",
    "        if (board[i] == board[current]):\n",
    "            return False\n",
    "        #We have two diagonals hence need the abs()\n",
    "        if (current - i == abs(board[current] - board[i])):\n",
    "            return False\n",
    "    return True \n",
    "\n",
    "\n",
    "#This procedure places 8 Queens on a board so they don't conflict.\n",
    "#It assumes n = 8 and won't work with other n!\n",
    "#Additional argument: number of solutions\n",
    "#Non-default argument needs to be first!\n",
    "def EightQueens(numsol, n=8):\n",
    "    board = [-1] * n\n",
    "    sol = 0\n",
    "    for i in range(n):\n",
    "        board[0] = i\n",
    "        for j in range(n):\n",
    "            board[1] = j\n",
    "            if not noConflicts(board, 1):\n",
    "                continue\n",
    "            for k in range(n):\n",
    "                board[2] = k\n",
    "                if not noConflicts(board, 2):\n",
    "                    continue\n",
    "                for l in range(n):\n",
    "                    board[3] = l\n",
    "                    if not noConflicts(board, 3):\n",
    "                        continue\n",
    "                    for m in range(n):\n",
    "                        board[4] = m\n",
    "                        if not noConflicts(board, 4):\n",
    "                            continue\n",
    "                        for o in range(n):\n",
    "                            board[5] = o\n",
    "                            if not noConflicts(board, 5):\n",
    "                                continue\n",
    "                            for p in range(n):\n",
    "                                board[6] = p\n",
    "                                if not noConflicts(board, 6):\n",
    "                                    continue\n",
    "                                for q in range(n):\n",
    "                                    board[7] = q\n",
    "                                    if noConflicts(board, 7):\n",
    "                                        if sol < numsol:\n",
    "                                            print (board)\n",
    "                                            sol += 1\n",
    "                                        else:\n",
    "                                            return\n",
    "    return\n",
    "\n",
    "\n",
    "EightQueens(7)"
   ]
  },
  {
   "cell_type": "markdown",
   "metadata": {},
   "source": [
    "94. Binary Tree Inorder Traversal"
   ]
  },
  {
   "cell_type": "code",
   "execution_count": 251,
   "metadata": {},
   "outputs": [
    {
     "data": {
      "text/plain": [
       "[1, 3, 2]"
      ]
     },
     "execution_count": 251,
     "metadata": {},
     "output_type": "execute_result"
    }
   ],
   "source": [
    "class TreeNode:\n",
    "    def __init__(self, val=0, left=None, right=None):\n",
    "        self.val = val\n",
    "        self.left = left\n",
    "        self.right = right\n",
    "\n",
    "a = [1, None, 2, 3]\n",
    "\n",
    "root = TreeNode(1)\n",
    "root.left = None\n",
    "root.right = TreeNode(2)\n",
    "root.right.left = TreeNode(3)\n",
    "\n",
    "def inorderTraversal(root):\n",
    "    if root is None:\n",
    "        return []\n",
    "    else:\n",
    "        return inorderTraversal(root.left) + [root.val] + inorderTraversal(root.right)\n",
    "\n",
    "inorderTraversal(root)"
   ]
  },
  {
   "cell_type": "markdown",
   "metadata": {},
   "source": [
    "509. Fibonacci Number"
   ]
  },
  {
   "cell_type": "code",
   "execution_count": 318,
   "metadata": {},
   "outputs": [
    {
     "data": {
      "text/plain": [
       "26"
      ]
     },
     "execution_count": 318,
     "metadata": {},
     "output_type": "execute_result"
    }
   ],
   "source": [
    "def fib_dp(n):\n",
    "    if n == 0:\n",
    "        return 0\n",
    "    c = [None] * (n+1)\n",
    "    c[0] = 0\n",
    "    c[1] = 1\n",
    "    for i in range(2,n+1):\n",
    "        c[i] = c[i-1] + c[i-2]\n",
    "    return c[-1]\n",
    "\n",
    "fib_dp(7)*2"
   ]
  },
  {
   "cell_type": "markdown",
   "metadata": {},
   "source": [
    "1143. Longest Common Subsequence"
   ]
  },
  {
   "cell_type": "code",
   "execution_count": 247,
   "metadata": {},
   "outputs": [
    {
     "data": {
      "text/plain": [
       "([[5, 5, 5, 4, 4, 4, 3, 2, 1, 0],\n",
       "  [5, 5, 5, 4, 4, 4, 3, 2, 1, 0],\n",
       "  [5, 5, 5, 4, 4, 4, 3, 2, 1, 0],\n",
       "  [5, 5, 5, 4, 4, 4, 3, 2, 1, 0],\n",
       "  [4, 4, 4, 4, 4, 4, 3, 2, 1, 0],\n",
       "  [4, 4, 4, 4, 4, 4, 3, 2, 1, 0],\n",
       "  [3, 3, 3, 3, 3, 3, 3, 2, 1, 0],\n",
       "  [2, 2, 2, 2, 2, 2, 2, 2, 1, 0],\n",
       "  [1, 1, 1, 1, 1, 1, 1, 1, 1, 0],\n",
       "  [0, 0, 0, 0, 0, 0, 0, 0, 0, 0]],\n",
       " ['n', 'o', 'i', 't', 'n', 'e', 'e', 't', 'n', 'i'])"
      ]
     },
     "execution_count": 247,
     "metadata": {},
     "output_type": "execute_result"
    }
   ],
   "source": [
    "def lcs(A, B): \n",
    "    a, b = len(A), len(B)\n",
    "    x = [[0] * (b+1) for _ in range(a+1)]\n",
    "    parent = []\n",
    "    for i in reversed(range(a)):\n",
    "        for j in reversed(range(b)):\n",
    "            if A[i] == B[j]:\n",
    "                x[i][j] = x[i + 1][j + 1] + 1\n",
    "                parent.append(A[i])\n",
    "            else:\n",
    "                x[i][j] = max(x[i + 1][j], x[i][j+1])\n",
    "    return x, parent\n",
    "\n",
    "A = \"intention\"\n",
    "B = \"execution\"\n",
    "lcs(A,B)"
   ]
  },
  {
   "cell_type": "markdown",
   "metadata": {},
   "source": [
    "300. Longest Increasing Subsequence"
   ]
  },
  {
   "cell_type": "code",
   "execution_count": 72,
   "metadata": {},
   "outputs": [
    {
     "data": {
      "text/plain": [
       "4"
      ]
     },
     "execution_count": 72,
     "metadata": {},
     "output_type": "execute_result"
    }
   ],
   "source": [
    "def lengthOfLIS(nums):\n",
    "    n = len(nums)\n",
    "    c = [1] * (n)\n",
    "    for i in reversed(range(n-1)):\n",
    "        for j in range(i+1,n):\n",
    "            if nums[j] > nums[i]:\n",
    "                c[i] = max(c[i], 1 + c[j])\n",
    "    return max(c)\n",
    "\n",
    "nums =[10,9,2,5,3,7,101,18]\n",
    "lengthOfLIS(nums)"
   ]
  },
  {
   "cell_type": "markdown",
   "metadata": {},
   "source": [
    "486. Predict the Winner"
   ]
  },
  {
   "cell_type": "code",
   "execution_count": 21,
   "metadata": {},
   "outputs": [
    {
     "data": {
      "text/plain": [
       "True"
      ]
     },
     "execution_count": 21,
     "metadata": {},
     "output_type": "execute_result"
    }
   ],
   "source": [
    "nums = [1,5,233,7]\n",
    "\n",
    "def predictTheWinner(nums):\n",
    "    n = len(nums)\n",
    "    max_diff = [0] * n\n",
    "\n",
    "    for i in reversed(range(n)):\n",
    "        max_diff[i] = nums[i]\n",
    "        for j in range(i + 1, n):\n",
    "            max_diff[j] = max(nums[i] - max_diff[j], nums[j] - max_diff[j - 1])\n",
    "    return max_diff[-1] >= 0\n",
    "\n",
    "predictTheWinner(nums)"
   ]
  },
  {
   "cell_type": "markdown",
   "metadata": {},
   "source": [
    "Rods-Cutting"
   ]
  },
  {
   "cell_type": "code",
   "execution_count": 79,
   "metadata": {},
   "outputs": [
    {
     "data": {
      "text/plain": [
       "22"
      ]
     },
     "execution_count": 79,
     "metadata": {},
     "output_type": "execute_result"
    }
   ],
   "source": [
    "rods = [0,1,5,8,9,10,17,17,20]\n",
    "\n",
    "def rodsCut(rods):\n",
    "    n = len(rods)\n",
    "    r = [0] * n\n",
    "    for j in range(1,n):\n",
    "        q = -float('inf')\n",
    "        for i in range(1,j+1):\n",
    "            q = max(q, rods[i] + r[j-i])\n",
    "        r[j] = q\n",
    "    return r[-1]\n",
    "\n",
    "rodsCut(rods)"
   ]
  },
  {
   "cell_type": "markdown",
   "metadata": {},
   "source": [
    "Subset Sum"
   ]
  },
  {
   "cell_type": "code",
   "execution_count": 242,
   "metadata": {},
   "outputs": [
    {
     "data": {
      "text/plain": [
       "True"
      ]
     },
     "execution_count": 242,
     "metadata": {},
     "output_type": "execute_result"
    }
   ],
   "source": [
    "def subsetSum(A, T):\n",
    "    n = len(A)\n",
    "    r = [[0]*(T+1) for _ in range(n+1)]\n",
    "\n",
    "    for i in range(n+1):\n",
    "        r[i][0] = 1\n",
    "\n",
    "    for i in range(1, n + 1):\n",
    "        for j in range(1, T + 1):\n",
    "            if j < A[i-1]:\n",
    "                r[i][j] = r[i-1][j]\n",
    "            if j >= A[i-1]:\n",
    "                r[i][j] = (r[i-1][j] or\n",
    "                                r[i - 1][j-A[i-1]])\n",
    "    return r[n][T] == 1\n",
    "\n",
    "A = [3,4,3,1]\n",
    "T = 6\n",
    "subsetSum(A, T)"
   ]
  },
  {
   "cell_type": "markdown",
   "metadata": {},
   "source": [
    "72. Edit Distance"
   ]
  },
  {
   "cell_type": "code",
   "execution_count": 282,
   "metadata": {},
   "outputs": [
    {
     "data": {
      "text/plain": [
       "[[0, 0, 0, 0, 0, 0],\n",
       " [0, 0, 0, 0, 0, 0],\n",
       " [0, 0, 0, 0, 0, 0],\n",
       " [0, 0, 0, 0, 0, 0]]"
      ]
     },
     "execution_count": 282,
     "metadata": {},
     "output_type": "execute_result"
    }
   ],
   "source": [
    "word1 = \"horse\"\n",
    "word2 = \"ros\"\n",
    "n1, n2 = len(word1), len(word2)\n",
    "c = [[0]*(n1+1) for j in range(n2+1)]\n",
    "c"
   ]
  },
  {
   "cell_type": "code",
   "execution_count": 310,
   "metadata": {},
   "outputs": [
    {
     "data": {
      "text/plain": [
       "5"
      ]
     },
     "execution_count": 310,
     "metadata": {},
     "output_type": "execute_result"
    }
   ],
   "source": [
    "def minDistance(word1, word2):\n",
    "    n1, n2 = len(word1), len(word2)\n",
    "    c = [[0]*(n2+1) for j in range(n1+1)]\n",
    "    for i in range(1,n1+1):\n",
    "        c[i][0] = i\n",
    "\n",
    "    for j in range(1,n2+1):\n",
    "        c[0][j] = j\n",
    "\n",
    "    for i in range(1,n1+1):\n",
    "        for j in range(1,n2+1):\n",
    "            if word1[i-1] == word2[j-1]:\n",
    "                cost = 0\n",
    "            else:\n",
    "                cost = 1\n",
    "            c[i][j] = min(c[i-1][j]+1, c[i][j-1]+1, c[i-1][j-1] + cost)\n",
    "    return c[-1][-1]\n",
    "\n",
    "word1 = \"intention\"\n",
    "word2 = \"execution\"\n",
    "# word1 = \"horse\"\n",
    "# word2 = \"ros\"\n",
    "# word1 = \"\"\n",
    "# word2 = \"a\"\n",
    "minDistance(word1, word2)"
   ]
  },
  {
   "cell_type": "code",
   "execution_count": 177,
   "metadata": {},
   "outputs": [
    {
     "data": {
      "text/plain": [
       "[[0, 0, 0, 0], [0, 'b', 0, 0], [0, 0, 0, 0], [0, 0, 0, 0]]"
      ]
     },
     "execution_count": 177,
     "metadata": {},
     "output_type": "execute_result"
    }
   ],
   "source": [
    "def lenPalendrom(word): \n",
    "    n = len(word)\n",
    "    x = [[1] * (n+1) for _ in range(n+1)]\n",
    "    c = [[0] * (n+1) for _ in range(n+1)]\n",
    "    for j in range(0,n):\n",
    "        for i in reversed(range(j+1, n)):\n",
    "            if word[i] == word[j]:\n",
    "                if i == j+1:\n",
    "                    x[i-1][j+1] = x[i][j] + 1\n",
    "                else:\n",
    "                    x[i-1][j+1] = x[i][j] + 2\n",
    "                    c[i-1][j+1] = word[i]\n",
    "            else:\n",
    "                x[i-1][j+1] = max(x[i-1][j], x[i][j+1])\n",
    "    return c\n",
    "\n",
    "word = 'bcb'\n",
    "lenPalendrom(word)"
   ]
  },
  {
   "cell_type": "code",
   "execution_count": null,
   "metadata": {},
   "outputs": [],
   "source": []
  }
 ],
 "metadata": {
  "kernelspec": {
   "display_name": "Python 3",
   "language": "python",
   "name": "python3"
  },
  "language_info": {
   "codemirror_mode": {
    "name": "ipython",
    "version": 3
   },
   "file_extension": ".py",
   "mimetype": "text/x-python",
   "name": "python",
   "nbconvert_exporter": "python",
   "pygments_lexer": "ipython3",
   "version": "3.11.5"
  },
  "orig_nbformat": 4
 },
 "nbformat": 4,
 "nbformat_minor": 2
}
