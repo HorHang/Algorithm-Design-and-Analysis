{
 "cells": [
  {
   "cell_type": "markdown",
   "metadata": {},
   "source": [
    "## Median Finding"
   ]
  },
  {
   "cell_type": "code",
   "execution_count": null,
   "metadata": {},
   "outputs": [],
   "source": [
    "import numpy as np\n",
    "\n",
    "lst = np.random.randint(0,100,53).tolist()"
   ]
  },
  {
   "cell_type": "code",
   "execution_count": null,
   "metadata": {},
   "outputs": [],
   "source": [
    "from math import floor\n",
    "col = floor(len(lst)/5)\n",
    "remaining = len(lst)%5\n",
    "\n",
    "A = [lst[i:i+5] for i in range(0,col*5,5)]\n",
    "A.append(lst[col*5:])\n",
    "A\n",
    "\n",
    "def internal_lst_sort(A):\n",
    "    median_lst = []\n",
    "    for e in A:\n",
    "        insertion_sort(e)\n",
    "        median_lst.append(e[floor(len(e)/2)])\n",
    "    return median_lst\n",
    "\n",
    "median_lst = internal_lst_sort(A)\n",
    "\n",
    "median_lst"
   ]
  },
  {
   "cell_type": "code",
   "execution_count": null,
   "metadata": {},
   "outputs": [],
   "source": [
    "from math import ceil\n",
    "def partition(A,p,r):\n",
    "    x = A[r]\n",
    "    i = p-1\n",
    "    for j in range(p,r):\n",
    "        if A[j] <= x:\n",
    "            i += 1\n",
    "            A[i],A[j] = A[j],A[i]\n",
    "    A[i+1],A[r] = A[r],A[i+1]\n",
    "    return i+1,A[i+1]\n",
    "\n",
    "def median_finding(A,n,i):\n",
    "    k, x = partition(A,0,n-1)\n",
    "    L = A[:k]\n",
    "    R = A[k+1:]\n",
    "    print(f\"k:{k}, i:{i}, n:{n}, A:{A}, L:{L}, R:{R}, pivot:{x}\")\n",
    "    if i == k:\n",
    "        return x\n",
    "    elif i < k:\n",
    "        return median_finding(L,k,i) # recurse at left\n",
    "    else:\n",
    "        return median_finding(R,n-k,i-k-1) # recurse at right; Why (i-k)??? because recure on the right part whose value\n",
    "                                    #is greater than x\n",
    "\n",
    "median_lst = [2,8,7,1,3,5,6,9,4]\n",
    "\n",
    "median_finding(median_lst,len(median_lst),5)"
   ]
  }
 ],
 "metadata": {
  "language_info": {
   "name": "python"
  }
 },
 "nbformat": 4,
 "nbformat_minor": 2
}
