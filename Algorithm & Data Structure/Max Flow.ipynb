{
 "cells": [
  {
   "cell_type": "markdown",
   "metadata": {},
   "source": [
    "## Ford-Fulkerson Method (Edmonds-Karp Algorithm)"
   ]
  },
  {
   "cell_type": "code",
   "execution_count": null,
   "metadata": {},
   "outputs": [
    {
     "data": {
      "text/plain": [
       "2000000"
      ]
     },
     "metadata": {},
     "output_type": "display_data"
    }
   ],
   "source": [
    "E = [[1, 2], [2, 3], [3], []]\n",
    "\n",
    "C = [[0, 1000000, 1000000, 0], [0, 0, 1, 1000000], [0, 0, 0, 1000000], [0, 0, 0, 0]]\n",
    "\n",
    "V = [i for i in range(6)]\n",
    "\n",
    "def edmonds_karp(E,C,n,s,t):\n",
    "    f = [[0 for i in range(n)] for j in range(n)]\n",
    "    maxflow = 0\n",
    "    while True:\n",
    "        P = [-1]*n\n",
    "        P[s] = -2\n",
    "        m = [0]*n\n",
    "        m[s] = inf\n",
    "        q = []\n",
    "        q.append(s)\n",
    "        pathflow, P = BFS_EK(f,q,E,P,m,s,t,C)\n",
    "        if pathflow == 0:\n",
    "            break\n",
    "        maxflow = maxflow + pathflow\n",
    "        v = t\n",
    "        while v != s:\n",
    "            u = P[v]\n",
    "            f[u][v] = f[u][v] + pathflow\n",
    "            f[v][u] = f[v][u] - pathflow\n",
    "            v = u\n",
    "    return maxflow\n",
    "\n",
    "def BFS_EK(f,q,E,P,m,s,t,C):\n",
    "    while q:\n",
    "        u = q.pop(0)\n",
    "        for v in E[u]:\n",
    "            if C[u][v] - f[u][v] > 0 and P[v] == -1:\n",
    "                P[v] = u\n",
    "                m[v] = min(m[u],C[u][v] - f[u][v])\n",
    "                if v != t:\n",
    "                    q.append(v)\n",
    "                else:\n",
    "                    return m[v], P\n",
    "    return 0, P\n",
    "\n",
    "n = 4\n",
    "\n",
    "edmonds_karp(E,C,n,s=0,t=3)"
   ]
  },
  {
   "cell_type": "code",
   "execution_count": null,
   "metadata": {},
   "outputs": [],
   "source": [
    "w = {0:{1:4,6:8},\n",
    "    1:{0:4,2:8,6:11},\n",
    "    2:{1:8,3:7,4:2,8:4},\n",
    "    3:{2:7,5:9,8:14},\n",
    "    4:{2:2,6:7,7:6},\n",
    "    5:{3:9,8:10},\n",
    "    6:{0:8,1:11,4:7,7:1},\n",
    "    7:{4:6,6:1,8:2},\n",
    "    8:{2:4,3:14,5:10,7:2}}\n",
    "\n",
    "E = [(0,1,4),(0,6,8),\n",
    "    (1,0,4),(1,2,8),(1,6,11),\n",
    "    (2,1,8),(2,3,7),(2,4,2),(2,8,4),\n",
    "    (3,2,7),(3,5,9),(3,8,14),\n",
    "    (4,2,2),(4,6,7),(4,7,6),\n",
    "    (5,3,9),(5,8,10),\n",
    "    (6,0,8),(6,1,11),(6,4,7),(6,7,1),\n",
    "    (7,4,6),(7,6,1),(7,8,2),\n",
    "    (8,2,4),(8,3,14),(8,5,10),(8,7,2)]"
   ]
  },
  {
   "cell_type": "code",
   "execution_count": null,
   "metadata": {},
   "outputs": [],
   "source": [
    "class Stack:\n",
    "    def __init__(self):\n",
    "        self.items = []\n",
    "\n",
    "    def is_empty(self):\n",
    "        return self.items == []\n",
    "    \n",
    "    def push(self, item):\n",
    "        self.items.append(item)\n",
    "        # self.items.insert(0,item)\n",
    "    \n",
    "    def pop(self, item):\n",
    "        return self.items.pop()\n",
    "        # return self.items.pop(0)\n",
    "\n",
    "    def peek(self):\n",
    "        return self.items[len(self.items)-1]\n",
    "        # return self.items[0]\n",
    "    \n",
    "    def size(self):\n",
    "        return len(self.items)"
   ]
  },
  {
   "cell_type": "code",
   "execution_count": null,
   "metadata": {},
   "outputs": [
    {
     "data": {
      "text/plain": [
       "False"
      ]
     },
     "metadata": {},
     "output_type": "display_data"
    }
   ],
   "source": [
    "def par_check(items):\n",
    "    s = Stack()\n",
    "    balanced = True\n",
    "    i = 0\n",
    "    while i < len(items) and balanced:\n",
    "        if items[i] == \"(\":\n",
    "            s.push(items[i])\n",
    "        else:\n",
    "            if s.is_empty():\n",
    "                balanced = False\n",
    "            else:\n",
    "                s.pop(items[i])\n",
    "        i += 1\n",
    "\n",
    "    if balanced == True and s.is_empty():\n",
    "        return True\n",
    "    else:\n",
    "        return False\n",
    "\n",
    "par_check('((((())))))')"
   ]
  }
 ],
 "metadata": {
  "language_info": {
   "name": "python"
  }
 },
 "nbformat": 4,
 "nbformat_minor": 2
}
