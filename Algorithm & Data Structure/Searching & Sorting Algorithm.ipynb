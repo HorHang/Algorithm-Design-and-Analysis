{
 "cells": [
  {
   "cell_type": "markdown",
   "metadata": {},
   "source": [
    "### Brute-Force Search Algorithm"
   ]
  },
  {
   "cell_type": "code",
   "execution_count": null,
   "metadata": {},
   "outputs": [],
   "source": [
    "matrix = [[1,3,5,7],[10,11,16,20],[23,30,34,60],[64,67,68,69],[72,74,76,79]]\n",
    "target = 1\n",
    "\n",
    "def brute_force_search(A,target):\n",
    "    l = len(A)\n",
    "    k = len(A[0])\n",
    "    for i in range(l-1):\n",
    "        for j in range(k-1):\n",
    "            if A[i][j] == target:\n",
    "                return True\n",
    "    return False\n",
    "\n",
    "brute_force_search(matrix,target)"
   ]
  },
  {
   "cell_type": "markdown",
   "metadata": {},
   "source": [
    "### Karatsuba Algorithm"
   ]
  },
  {
   "cell_type": "code",
   "execution_count": null,
   "metadata": {},
   "outputs": [],
   "source": [
    "# H = ac, L = bd, M = (a+b)(c+d) - H - L\n",
    "# xy = H*b^n + M*b^(n/2) + L\n",
    "\n",
    "def karatsuba_multipler(x,y,base):\n",
    "    str_x = str(x)\n",
    "    str_y = str(y)\n",
    "    n = max(len(str_x),len(str_y))\n",
    "\n",
    "    # if n/2 != int(n/2):\n",
    "    #     str_x = str_x.zfill(n+1)\n",
    "    #     str_y = str_y.zfill(n+1)\n",
    "\n",
    "    a = int(str_x[int(n/2):])\n",
    "    b = int(str_x[:int(n/2)])\n",
    "    c = int(str_y[int(n/2):])\n",
    "    d = int(str_y[:int(n/2)])\n",
    "    H = b*d\n",
    "    L = a*c\n",
    "    if n == 1:\n",
    "        return x * y\n",
    "    \n",
    "    print(n,a,b,c,d,H,L,\"len:\", len(str(a+b)),len(str(c+d)), len(str_x))\n",
    "\n",
    "    x_rec = a + b\n",
    "    y_rec = c + d\n",
    "    M = karatsuba_multipler(x_rec,y_rec,base) - H - L\n",
    "    result = H * (base**n) + M * (base ** (n/2)) + L\n",
    "    return int(result)\n",
    "\n",
    "x = 31123112\n",
    "y = 27433112\n",
    "base = 10\n",
    "print(x*y)\n",
    "f\"The multiplication by using Karatsuba algorithm is {karatsuba_multipler(x,y,base)}\""
   ]
  },
  {
   "cell_type": "code",
   "execution_count": null,
   "metadata": {},
   "outputs": [],
   "source": [
    "from math import ceil, floor\n",
    "\n",
    "def karatsuba(x,y):\n",
    "    #base case\n",
    "    if x < 10 and y < 10: # in other words, if x and y are single digits\n",
    "        return x*y\n",
    "\n",
    "    n = max(len(str(x)), len(str(y)))\n",
    "    m = ceil(n/2)   #Cast n into a float because n might lie outside the representable range of integers.\n",
    "\n",
    "    x_H  = floor(x / 10**m)\n",
    "    x_L = x % (10**m)\n",
    "\n",
    "    y_H = floor(y / 10**m)\n",
    "    y_L = y % (10**m)\n",
    "\n",
    "    #recursive steps\n",
    "    a = karatsuba(x_H,y_H)\n",
    "    d = karatsuba(x_L,y_L)\n",
    "    e = karatsuba(x_H + x_L, y_H + y_L) - a - d\n",
    "\n",
    "    return int(a*(10**(2*m)) + e*(10**m) + d)\n",
    "x = 3141314131413141314131413141314131413141314131413141314131413141\n",
    "y = 2718314131413141314131413141314131413141314131413141314131413141\n",
    "print(karatsuba(x,y))\n",
    "print(x * y)"
   ]
  },
  {
   "cell_type": "markdown",
   "metadata": {},
   "source": [
    "### Insertion Sort"
   ]
  },
  {
   "cell_type": "code",
   "execution_count": null,
   "metadata": {},
   "outputs": [],
   "source": [
    "myList = [3, 2, 1, 80, 4, 6, 8, 7, 9, 100, 10, 14, 12, 13, 11, 5, 40]\n",
    "\n",
    "def insertion_sort(myList):\n",
    "    for j in range(1,len(myList)):\n",
    "        key = myList[j]\n",
    "        i = j - 1\n",
    "        while i >= 0 and myList[i] > key:\n",
    "            myList[i+1] = myList[i]\n",
    "            i = i - 1\n",
    "        myList[i+1] = key\n",
    "    return myList\n",
    "insertion_sort(myList)"
   ]
  },
  {
   "cell_type": "markdown",
   "metadata": {},
   "source": [
    "### Merge Sort"
   ]
  },
  {
   "cell_type": "code",
   "execution_count": null,
   "metadata": {},
   "outputs": [],
   "source": [
    "def merge(left,right):\n",
    "    result = []\n",
    "    i,j = 0,0\n",
    "    while i < len(left) and j < len(right):\n",
    "        if left[i] <= right[j]:\n",
    "            result.append(left[i])\n",
    "            i += 1\n",
    "\n",
    "        else:\n",
    "            result.append(right[j])\n",
    "            j += 1\n",
    "\n",
    "    if left:\n",
    "        result.extend(left[i:])\n",
    "    if right:\n",
    "        result.extend(right[j:])\n",
    "    return result\n",
    "\n",
    "def merge_sort(A):\n",
    "    if len(A) <= 1:\n",
    "        return A\n",
    "\n",
    "    mid = len(A) // 2\n",
    "    left = A[:mid]\n",
    "    right = A[mid:]\n",
    "\n",
    "    left = merge_sort(left)\n",
    "    right = merge_sort(right)\n",
    "\n",
    "    return merge(left,right)"
   ]
  },
  {
   "cell_type": "markdown",
   "metadata": {},
   "source": [
    "### Brute-Force Search Algorithm"
   ]
  },
  {
   "cell_type": "code",
   "execution_count": null,
   "metadata": {},
   "outputs": [],
   "source": [
    "matrix = [[1,3,5,7],[10,11,16,20],[23,30,34,60],[64,67,68,69],[72,74,76,79]]\n",
    "target = 1\n",
    "\n",
    "def brute_force_search(A,target):\n",
    "    l = len(A)\n",
    "    k = len(A[0])\n",
    "    for i in range(l-1):\n",
    "        for j in range(k-1):\n",
    "            if A[i][j] == target:\n",
    "                return True\n",
    "    return False\n",
    "\n",
    "brute_force_search(matrix,target)"
   ]
  },
  {
   "cell_type": "markdown",
   "metadata": {},
   "source": [
    "### Karatsuba Algorithm"
   ]
  },
  {
   "cell_type": "code",
   "execution_count": null,
   "metadata": {},
   "outputs": [],
   "source": [
    "# H = ac, L = bd, M = (a+b)(c+d) - H - L\n",
    "# xy = H*b^n + M*b^(n/2) + L\n",
    "\n",
    "def karatsuba_multipler(x,y,base):\n",
    "    str_x = str(x)\n",
    "    str_y = str(y)\n",
    "    n = max(len(str_x),len(str_y))\n",
    "\n",
    "    # if n/2 != int(n/2):\n",
    "    #     str_x = str_x.zfill(n+1)\n",
    "    #     str_y = str_y.zfill(n+1)\n",
    "\n",
    "    a = int(str_x[int(n/2):])\n",
    "    b = int(str_x[:int(n/2)])\n",
    "    c = int(str_y[int(n/2):])\n",
    "    d = int(str_y[:int(n/2)])\n",
    "    H = b*d\n",
    "    L = a*c\n",
    "    if n == 1:\n",
    "        return x * y\n",
    "    \n",
    "    print(n,a,b,c,d,H,L,\"len:\", len(str(a+b)),len(str(c+d)), len(str_x))\n",
    "\n",
    "    x_rec = a + b\n",
    "    y_rec = c + d\n",
    "    M = karatsuba_multipler(x_rec,y_rec,base) - H - L\n",
    "    result = H * (base**n) + M * (base ** (n/2)) + L\n",
    "    return int(result)\n",
    "\n",
    "x = 31123112\n",
    "y = 27433112\n",
    "base = 10\n",
    "print(x*y)\n",
    "f\"The multiplication by using Karatsuba algorithm is {karatsuba_multipler(x,y,base)}\""
   ]
  },
  {
   "cell_type": "code",
   "execution_count": null,
   "metadata": {},
   "outputs": [],
   "source": [
    "from math import ceil, floor\n",
    "\n",
    "def karatsuba(x,y):\n",
    "    #base case\n",
    "    if x < 10 and y < 10: # in other words, if x and y are single digits\n",
    "        return x*y\n",
    "\n",
    "    n = max(len(str(x)), len(str(y)))\n",
    "    m = ceil(n/2)   #Cast n into a float because n might lie outside the representable range of integers.\n",
    "\n",
    "    x_H  = floor(x / 10**m)\n",
    "    x_L = x % (10**m)\n",
    "\n",
    "    y_H = floor(y / 10**m)\n",
    "    y_L = y % (10**m)\n",
    "\n",
    "    #recursive steps\n",
    "    a = karatsuba(x_H,y_H)\n",
    "    d = karatsuba(x_L,y_L)\n",
    "    e = karatsuba(x_H + x_L, y_H + y_L) - a - d\n",
    "\n",
    "    return int(a*(10**(2*m)) + e*(10**m) + d)\n",
    "x = 3141314131413141314131413141314131413141314131413141314131413141\n",
    "y = 2718314131413141314131413141314131413141314131413141314131413141\n",
    "print(karatsuba(x,y))\n",
    "print(x * y)"
   ]
  },
  {
   "cell_type": "markdown",
   "metadata": {},
   "source": [
    "### Insertion Sort"
   ]
  },
  {
   "cell_type": "code",
   "execution_count": null,
   "metadata": {},
   "outputs": [],
   "source": [
    "myList = [3, 2, 1, 80, 4, 6, 8, 7, 9, 100, 10, 14, 12, 13, 11, 5, 40]\n",
    "\n",
    "def insertion_sort(myList):\n",
    "    for j in range(1,len(myList)):\n",
    "        key = myList[j]\n",
    "        i = j - 1\n",
    "        while i >= 0 and myList[i] > key:\n",
    "            myList[i+1] = myList[i]\n",
    "            i = i - 1\n",
    "        myList[i+1] = key\n",
    "    return myList\n",
    "insertion_sort(myList)"
   ]
  },
  {
   "cell_type": "markdown",
   "metadata": {},
   "source": [
    "### Merge Sort"
   ]
  },
  {
   "cell_type": "code",
   "execution_count": null,
   "metadata": {},
   "outputs": [],
   "source": [
    "def merge(left,right):\n",
    "    result = []\n",
    "    i,j = 0,0\n",
    "    while i < len(left) and j < len(right):\n",
    "        if left[i] <= right[j]:\n",
    "            result.append(left[i])\n",
    "            i += 1\n",
    "\n",
    "        else:\n",
    "            result.append(right[j])\n",
    "            j += 1\n",
    "\n",
    "    if left:\n",
    "        result.extend(left[i:])\n",
    "    if right:\n",
    "        result.extend(right[j:])\n",
    "    return result\n",
    "\n",
    "def merge_sort(A):\n",
    "    if len(A) <= 1:\n",
    "        return A\n",
    "\n",
    "    mid = len(A) // 2\n",
    "    left = A[:mid]\n",
    "    right = A[mid:]\n",
    "\n",
    "    left = merge_sort(left)\n",
    "    right = merge_sort(right)\n",
    "\n",
    "    return merge(left,right)"
   ]
  },
  {
   "cell_type": "markdown",
   "metadata": {},
   "source": [
    "### Divide and Conquer"
   ]
  },
  {
   "cell_type": "code",
   "execution_count": null,
   "metadata": {},
   "outputs": [],
   "source": [
    "import numpy as np\n",
    "\n",
    "def find_max_crossing_subarry(A, low, mid, high):\n",
    "    left_sum = -np.Infinity\n",
    "    sum = 0\n",
    "    max_left_idx = mid\n",
    "\n",
    "    for i in range(mid,low-1,-1):\n",
    "        sum += A[i]\n",
    "        if sum > left_sum:\n",
    "            left_sum = sum\n",
    "            max_left_idx = i\n",
    "    sum = 0\n",
    "    max_right_idx = mid + 1\n",
    "    right_sum = -np.Infinity\n",
    "    for j in range(mid+1,high+1):\n",
    "        sum += A[j]\n",
    "        if sum > right_sum:\n",
    "            right_sum = sum\n",
    "            max_right_idx = j\n",
    "    return (max_left_idx, max_right_idx, left_sum + right_sum)\n",
    "\n",
    "\n",
    "def find_max_subarry(A, low, high):\n",
    "    if low == high:\n",
    "        return (low, high, A[low])\n",
    "    else:\n",
    "        mid = (low + high) // 2\n",
    "        left_low, left_high, left_sum = find_max_subarry(A, low, mid)\n",
    "        right_low, right_high, right_sum = find_max_subarry(A, mid+1, high)\n",
    "        cross_low, cross_high, cross_sum = find_max_crossing_subarry(A, low, mid, high)\n",
    "        if left_sum >= right_sum and left_sum >= cross_sum:\n",
    "            return (left_low, left_high, left_sum)\n",
    "        elif right_sum >= left_sum and right_sum >= cross_sum:\n",
    "            return (right_low, right_high, right_sum)\n",
    "        else:\n",
    "            return (cross_low, cross_high, cross_sum)\n",
    "\n",
    "A = [-2,1,-3,4,-1,2,1,-5,4]\n",
    "left_idx, right_idx, total = find_max_subarry(A, low=0, high=len(A)-1)\n",
    "\n",
    "f\"subarry {A[left_idx : right_idx + 1]} has the maximum total sum which is {total}\""
   ]
  },
  {
   "cell_type": "markdown",
   "metadata": {},
   "source": [
    "### Heap Sort"
   ]
  },
  {
   "cell_type": "code",
   "execution_count": null,
   "metadata": {},
   "outputs": [],
   "source": [
    "import numpy as np\n",
    "\n",
    "class MaxHeap():\n",
    "    def __init__(self):\n",
    "        self.A = []\n",
    "        self.heapsize = 0\n",
    "\n",
    "    def parent(self,i):\n",
    "        return i//2 + 1\n",
    "\n",
    "    def left(self,i):\n",
    "        return 2*i + 1\n",
    "\n",
    "    def right(self,i):\n",
    "        return 2*i + 2\n",
    "\n",
    "    def heap_increase_key(self,i,key):\n",
    "        if key < self[i]:\n",
    "            print(\"new key is smaller than current key\")\n",
    "        self[i] = key\n",
    "        while i > 1 and self[self.parent(i)] < self.\n",
    "\n",
    "    def insert(self,key):\n",
    "        self.heapsize += 1\n",
    "        self[self.heapsize] = -np.inf\n",
    "        self.heap_increase_key(self,self.heapsize,key)\n",
    "\n",
    "\n",
    "    def max_heapify(self, heapsize, i):\n",
    "        l = self.left(i)\n",
    "        r = self.right(i)\n",
    "        if l < heapsize and self[l] > self[i]:\n",
    "            largest = l\n",
    "        else:\n",
    "            largest = i\n",
    "        if r < heapsize and self[r] > self[largest]:\n",
    "            largest = r\n",
    "        if largest != i:\n",
    "            self[i], self[largest] = self[largest], self[i]\n",
    "            self.max_heapify(heapsize, largest)\n",
    "\n",
    "    def build_max_heap(self):\n",
    "        self.heapsize = self.heapsize + 1\n",
    "        for i in range(self.heapsize//2-1,-1,-1):\n",
    "            self.max_heapify(self.heapsize, i)\n",
    "\n",
    "    def heap_sort(self):\n",
    "        self.build_max_heap()\n",
    "        for i in range(self.heapsize-1, 0, -1):\n",
    "            self[0], self[i] = self[i], self[0]\n",
    "            self.heapsize -= 1\n",
    "            self.max_heapify(self.heapsize, 0)\n",
    "\n",
    "# A = [4,1,3,2,16,9,10,14,8,7]\n",
    "A = MaxHeap()\n",
    "A.insert()"
   ]
  },
  {
   "cell_type": "markdown",
   "metadata": {},
   "source": [
    "### Quick Sort"
   ]
  },
  {
   "cell_type": "code",
   "execution_count": null,
   "metadata": {},
   "outputs": [],
   "source": [
    "def partition(lst, start, end):\n",
    "    pos = start                           # condition was obsolete, loop won't\n",
    "                                          # simply run for empty range\n",
    "\n",
    "    for i in range(start, end):           # i must be between start and end-1\n",
    "        if lst[i] < lst[end]:             # in your version it always goes from 0\n",
    "            lst[i],lst[pos] = lst[pos],lst[i]\n",
    "            pos += 1\n",
    "\n",
    "    lst[pos],lst[end] = lst[end],lst[pos] # you forgot to put the pivot\n",
    "                                          # back in its place\n",
    "    return pos, A\n",
    "\n",
    "def quick_sort_recursive(lst, start, end):\n",
    "    if start < end:                       # this is enough to end recursion\n",
    "        pos = partition(lst, start, end)\n",
    "        quick_sort_recursive(lst, start, pos - 1)\n",
    "        quick_sort_recursive(lst, pos + 1, end)\n",
    "                                          # you don't need to return the list\n",
    "                                          # it's modified in place"
   ]
  },
  {
   "cell_type": "code",
   "execution_count": null,
   "metadata": {},
   "outputs": [],
   "source": [
    "# quick_sort_recursive(A, 0, len(A) - 1)\n",
    "A = [2, 8, 7, 1, 3, 5, 6, 4, 10, 9]\n",
    "# partition(A, 0, len(A)-1)"
   ]
  },
  {
   "cell_type": "code",
   "execution_count": null,
   "metadata": {},
   "outputs": [],
   "source": [
    "def partition(A,p,r):\n",
    "    pos = p\n",
    "    for i in range(p,r):\n",
    "        if A[i] < A[r]:\n",
    "            A[i], A[pos] = A[pos], A[i]\n",
    "            pos += 1\n",
    "    A[pos], A[r] = A[r], A[pos]\n",
    "    return pos"
   ]
  },
  {
   "cell_type": "code",
   "execution_count": null,
   "metadata": {},
   "outputs": [],
   "source": [
    "def quicksort(A,p,r):\n",
    "    if p < r:\n",
    "        q = partition(A,p,r)\n",
    "        quicksort(A,p,q-1)\n",
    "        quicksort(A,q+1,r)\n",
    "\n",
    "quicksort(A,0,len(A)-1)\n",
    "\n",
    "A"
   ]
  },
  {
   "cell_type": "markdown",
   "metadata": {},
   "source": [
    "### Counting Sort"
   ]
  },
  {
   "cell_type": "code",
   "execution_count": null,
   "metadata": {},
   "outputs": [],
   "source": [
    "def counting_sort(A,B,k):\n",
    "    C = []\n",
    "    for i in range(k+1):\n",
    "        C.append(0)\n",
    "    for j in range(len(A)):\n",
    "        C[A[j]] = C[A[j]] + 1\n",
    "    for e in range(1,k+1):\n",
    "        C[e] = C[e] + C[e-1]\n",
    "    for l in range(len(A)-1,-1,-1):\n",
    "        B[C[A[l]]-1] = A[l] # B[C[A[7]]-1] = B[C[3]-1] = B[7-1] = A[7] = 3\n",
    "        C[A[l]] -= 1\n",
    "\n",
    "A = [329,457,657,839,436,720,355]\n",
    "B = [0]*len(A)\n",
    "k = max(A)\n",
    "counting_sort(A,B,k)\n",
    "f\"By counting sort of A={A} list, the return B={B}\""
   ]
  },
  {
   "cell_type": "markdown",
   "metadata": {},
   "source": [
    "### Radix Sort"
   ]
  },
  {
   "cell_type": "code",
   "execution_count": null,
   "metadata": {},
   "outputs": [],
   "source": [
    "import math \n",
    "\n",
    "def counting_sort(A, digit, radix):\n",
    "    #\"A\" is a list to be sorted, radix is the base of the number system, digit is the digit\n",
    "    #we want to sort by\n",
    "\n",
    "    #create a list B which will be the sorted list\n",
    "    B = [0]*len(A)\n",
    "    C = [0]*int(radix)\n",
    "    #counts the number of occurences of each digit in A \n",
    "    for i in range(0, len(A)):\n",
    "        digit_of_Ai = math.floor((A[i]/radix**digit)%radix)\n",
    "        C[digit_of_Ai] = C[digit_of_Ai] +1 \n",
    "        #now C[i] is the value of the number of elements in A equal to i\n",
    "\n",
    "    #this FOR loop changes C to show the cumulative # of digits up to that index of C\n",
    "    for j in range(1,radix):\n",
    "        C[j] = C[j] + C[j-1]\n",
    "        #here C is modifed to have the number of elements <= i\n",
    "    for m in range(len(A)-1, -1, -1): #to count down (go through A backwards)\n",
    "        digit_of_Ai = math.floor((A[m]/radix**digit)%radix)\n",
    "        C[digit_of_Ai] = C[digit_of_Ai] -1\n",
    "        B[C[digit_of_Ai]] = A[m]\n",
    "\n",
    "    return B\n",
    "\n",
    "#alist = [9,3,1,4,5,7,7,2,2]\n",
    "#print countingSort(alist,0,10)\n",
    "\n",
    "def radix_sort(A, radix):\n",
    "    #radix is the base of the number system\n",
    "    #k is the largest number in the list\n",
    "    k = max(A)\n",
    "    #output is the result list we will build\n",
    "    output = A\n",
    "    #compute the number of digits needed to represent k\n",
    "    digits = math.floor(math.log(k, radix)+1)\n",
    "    for i in range(digits):\n",
    "        output = counting_sort(output,i,radix)\n",
    "\n",
    "    return output\n",
    "\n",
    "A = [329,457,657,839,436,720,355]\n",
    "print(radix_sort(A,10))"
   ]
  },
  {
   "cell_type": "code",
   "execution_count": null,
   "metadata": {},
   "outputs": [],
   "source": [
    "A = [329,457,657,839,436,720,355]\n",
    "digit = 3\n",
    "radix = 10\n",
    "\n",
    "counting_sort(A, digit, radix)"
   ]
  },
  {
   "cell_type": "markdown",
   "metadata": {},
   "source": [
    "### Binary Search Tree"
   ]
  },
  {
   "cell_type": "code",
   "execution_count": null,
   "metadata": {},
   "outputs": [],
   "source": [
    "A = [1,3,5,7,10,11,16,20,21,23,30,31,32,34,60,70,99,100]\n",
    "\n",
    "def binary_search(A,target):\n",
    "    idx = int(len(A)/2)\n",
    "    print(idx)\n",
    "    if len(A) == 1 and A[idx] != target:\n",
    "        return False\n",
    "    elif A[idx] > target:\n",
    "        return binary_search(A[:idx],target)\n",
    "    elif A[idx] < target:\n",
    "        return binary_search(A[idx:],target)\n",
    "    else:\n",
    "        return True\n",
    "\n",
    "binary_search(A,100)"
   ]
  }
 ],
 "metadata": {
  "language_info": {
   "name": "python"
  }
 },
 "nbformat": 4,
 "nbformat_minor": 2
}
