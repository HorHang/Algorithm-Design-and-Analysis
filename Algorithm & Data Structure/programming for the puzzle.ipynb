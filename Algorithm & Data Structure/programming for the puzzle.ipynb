{
 "cells": [
  {
   "cell_type": "markdown",
   "metadata": {},
   "source": [
    "Puzzle 1. You are all conform"
   ]
  },
  {
   "cell_type": "code",
   "execution_count": null,
   "metadata": {},
   "outputs": [
    {
     "name": "stdout",
     "output_type": "stream",
     "text": [
      "people in position 2 throught 4 flip your cap\n",
      "people in position 7 throught 7 flip your cap\n",
      "people in position 10 throught 10 flip your cap\n",
      "people in position 12 throught 13 flip your cap\n"
     ]
    }
   ],
   "source": [
    "caps = ['F', 'F', 'B', 'B', 'B', 'F', 'F', 'B', 'F', 'F', 'B', 'F', 'B', 'B']\n",
    "\n",
    "def minFlipsCaps(caps):\n",
    "    caps += [caps[0]]\n",
    "    for i in range(1, len(caps)):\n",
    "        if caps[i] != caps[i-1]:\n",
    "            if caps[i] != caps[0]:\n",
    "                print('people in position', i, end= '')\n",
    "            else:\n",
    "                print(' throught', i-1, 'flip your cap')\n",
    "\n",
    "\n",
    "minFlipsCaps(caps)"
   ]
  },
  {
   "cell_type": "markdown",
   "metadata": {},
   "source": [
    "Puzzle 2: The Best Time to Party"
   ]
  },
  {
   "cell_type": "code",
   "execution_count": 53,
   "metadata": {},
   "outputs": [
    {
     "data": {
      "text/plain": [
       "'max number: 3, time: 10'"
      ]
     },
     "execution_count": 53,
     "metadata": {},
     "output_type": "execute_result"
    }
   ],
   "source": [
    "schedule = [(6,7), (7,9), (10,11), (10,12), (8,10), (9,11), (6,8)]\n",
    "\n",
    "def bestTimeParty(schedule):\n",
    "\n",
    "    times = []\n",
    "    for s in schedule:\n",
    "        times.append((s[0], 'start'))\n",
    "        times.append((s[1], 'end'))\n",
    "\n",
    "    times.sort()\n",
    "\n",
    "    count = 0\n",
    "    maxCount = 0\n",
    "    time = 0\n",
    "    for t in times:\n",
    "        if t[1] == 'start':\n",
    "            count += 1\n",
    "        elif t[1] == 'end':\n",
    "            count -= 1\n",
    "        if count > maxCount:\n",
    "            maxCount = count\n",
    "            time = t[0]\n",
    "\n",
    "    return f\"max number: {maxCount}, time: {time}\"\n",
    "\n",
    "bestTimeParty(schedule)"
   ]
  },
  {
   "cell_type": "markdown",
   "metadata": {},
   "source": [
    "Puzzle 4: Please Do Break the Crystal"
   ]
  },
  {
   "cell_type": "code",
   "execution_count": 31,
   "metadata": {},
   "outputs": [
    {
     "data": {
      "text/plain": [
       "(0, 1)"
      ]
     },
     "execution_count": 31,
     "metadata": {},
     "output_type": "execute_result"
    }
   ],
   "source": [
    "def howHardIsTheCrystal(n= 128, d= 4, events=[1]): # n numer of floor, d number of given crystal\n",
    "    reps = [0] * d\n",
    "    hardness = 0\n",
    "    noBreakdrops = 0\n",
    "\n",
    "    r = 1\n",
    "    while r**d < n:\n",
    "        r += 1\n",
    "\n",
    "    i = 0\n",
    "    while i < d:\n",
    "        for event in events:\n",
    "            if event == 0 and reps[i] < d:\n",
    "                reps[i] += 1\n",
    "                noBreakdrops += 1\n",
    "            else:\n",
    "                i += 1\n",
    "    num_drops = noBreakdrops + d\n",
    "    hardness = convertToDecimal(r, d, reps) # OK\n",
    "\n",
    "    return hardness, num_drops\n",
    "\n",
    "def convertToDecimal(r, d, reps):\n",
    "    decimal = 0\n",
    "    for i in range(d):\n",
    "        decimal += reps[i] * (r ** (d-i-1))\n",
    "    return decimal\n",
    "\n",
    "n = 128\n",
    "k = 1 # greater than 1\n",
    "events = [1]\n",
    "howHardIsTheCrystal(n=n, d=k, events= events)"
   ]
  },
  {
   "cell_type": "markdown",
   "metadata": {},
   "source": [
    "Puzzle 6: A Profusion of Queens"
   ]
  },
  {
   "cell_type": "code",
   "execution_count": 209,
   "metadata": {},
   "outputs": [
    {
     "data": {
      "text/plain": [
       "(10, 10)"
      ]
     },
     "execution_count": 209,
     "metadata": {},
     "output_type": "execute_result"
    }
   ],
   "source": [
    "def iGCD(m,n):\n",
    "    while n>0:\n",
    "        m, n = n, m%n\n",
    "    return m\n",
    "\n",
    "def rGCD(m,n):\n",
    "    if m % n == 0:\n",
    "        return n\n",
    "    else:\n",
    "        gcd = rGCD(n,m%n)\n",
    "    return gcd\n",
    "\n",
    "\n",
    "iGCD(140,30), rGCD(140,30)"
   ]
  },
  {
   "cell_type": "code",
   "execution_count": 182,
   "metadata": {},
   "outputs": [
    {
     "data": {
      "text/plain": [
       "[1, 3, 5, 0, 2, 4]"
      ]
     },
     "execution_count": 182,
     "metadata": {},
     "output_type": "execute_result"
    }
   ],
   "source": [
    "def noConflicts(board, current):\n",
    "    for i in range(current):\n",
    "        if board[i] == board[current]: # check row\n",
    "            return False\n",
    "        elif current - i == abs(board[current] - board[i]): # check diagonal\n",
    "            return False\n",
    "    return True\n",
    "\n",
    "def NQueens(size):\n",
    "    board = [-1] * size\n",
    "    rQueens(board, 0, size)\n",
    "    return board\n",
    "\n",
    "def rQueens(board, current, size):\n",
    "    if current == size:\n",
    "        return True\n",
    "    else:\n",
    "        for i in range(size):\n",
    "            board[current] = i\n",
    "            if noConflicts(board, current):\n",
    "                done = rQueens(board, current+1, size)\n",
    "                if done:\n",
    "                    return True\n",
    "    return False\n",
    "\n",
    "l = NQueens(6)\n",
    "l"
   ]
  },
  {
   "cell_type": "code",
   "execution_count": 197,
   "metadata": {},
   "outputs": [
    {
     "data": {
      "text/plain": [
       "[[1, 3, 0, 2], [2, 0, 3, 1]]"
      ]
     },
     "execution_count": 197,
     "metadata": {},
     "output_type": "execute_result"
    }
   ],
   "source": [
    "def totalNQueens(l):\n",
    "    if len(l) // 2 == len(l) / 2:\n",
    "        total = [l.copy()]\n",
    "        l.reverse()\n",
    "        total += [l]\n",
    "    return total\n",
    "\n",
    "l = NQueens(4)\n",
    "total = totalNQueens(l)\n",
    "total"
   ]
  },
  {
   "cell_type": "code",
   "execution_count": 208,
   "metadata": {},
   "outputs": [
    {
     "data": {
      "text/plain": [
       "[['.Q..', '...Q', 'Q...', '..Q.'], ['..Q.', 'Q...', '...Q', '.Q..']]"
      ]
     },
     "execution_count": 208,
     "metadata": {},
     "output_type": "execute_result"
    }
   ],
   "source": [
    "Q_loc = total\n",
    "\n",
    "def changeFormat(Q_loc):\n",
    "    Q_loc_str = []\n",
    "    for q in Q_loc:\n",
    "        q_loc_str = []\n",
    "        for i in range(len(q)):\n",
    "            q_loc_str.append(\".\"*q[i] + \"Q\" + \".\"*(len(q)-q[i]-1))\n",
    "        Q_loc_str.append(q_loc_str)\n",
    "    return Q_loc_str\n",
    "\n",
    "changeFormat(Q_loc)"
   ]
  },
  {
   "cell_type": "code",
   "execution_count": 256,
   "metadata": {},
   "outputs": [
    {
     "data": {
      "text/plain": [
       "array([[ 0,  1,  2,  3,  0,  1,  2,  3],\n",
       "       [ 4,  5,  6,  7,  4,  5,  6,  7],\n",
       "       [ 8,  9, 10, 11,  8,  9, 10, 11]])"
      ]
     },
     "execution_count": 256,
     "metadata": {},
     "output_type": "execute_result"
    }
   ],
   "source": [
    "import numpy as np\n",
    "\n",
    "a = np.arange(12)\n",
    "b = np.arange(12)\n",
    "\n",
    "np.concatenate([a.reshape(3,4), a.reshape(3,4)], axis=1)"
   ]
  },
  {
   "cell_type": "code",
   "execution_count": 314,
   "metadata": {},
   "outputs": [
    {
     "data": {
      "text/plain": [
       "[[1, 2, 3, 6, 5, 2, 3, 1],\n",
       " [1, 2, 3, 6, 5, 2, 3, 1],\n",
       " [1, 2, 3, 6, 5, 2, 3, 1],\n",
       " [1, 2, 3, 6, 5, 2, 3, 1],\n",
       " [1, 2, 3, 6, 5, 2, 3, 1],\n",
       " [1, 2, 3, 6, 5, 2, 3, 1],\n",
       " [1, 2, 3, 6, 5, 2, 3, 1],\n",
       " [1, 2, 3, 6, 5, 2, 3, 1]]"
      ]
     },
     "execution_count": 314,
     "metadata": {},
     "output_type": "execute_result"
    }
   ],
   "source": [
    "def tilingCourdyard(yard, size, originR, originC, rMiss, cMiss, nextPiece):\n",
    "\n",
    "    quadMiss = 2 * (rMiss >= size//2) + (cMiss >= size//2)\n",
    "\n",
    "    if size == 2:\n",
    "        piecePos = [(0,0),(0,1),(1,0),(1,1)]\n",
    "        piecePos.pop(quadMiss)\n",
    "        for r,c in piecePos:\n",
    "            yard[originR + r][originC + c] = nextPiece\n",
    "        nextPiece += 1\n",
    "        return nextPiece\n",
    "\n",
    "    for quad in range(4):\n",
    "        shiftR = size//2 * (quad >= 2)\n",
    "        shiftC = size//2 * (quad % 2 == 1)\n",
    "        if quad == quadMiss:\n",
    "            nextPiece = tilingCourdyard(yard, size//2, originR+shiftR, originC+shiftC, rMiss-shiftR, cMiss-shiftC, nextPiece)\n",
    "        else:\n",
    "            new_rMiss = (size//2 - 1) * (quad < 2)\n",
    "            new_cMiss = (size//2 - 1) * (quad%2 == 0)\n",
    "            nextPices = tilingCourdyard(yard, size//2, originR+shiftR, originC+shiftC, new_rMiss, new_cMiss, nextPiece)\n",
    "\n",
    "    centerPos = [(r + size//2 - 1, c + size//2 - 1) for (r,c) in [(0,0),(0,1),(1,0),(1,1)]]\n",
    "    centerPos.pop(quadMiss)\n",
    "    for r,c in centerPos:\n",
    "        yard[originR+r][originC + c] = nextPiece\n",
    "        nextPiece += 1\n",
    "    return nextPiece\n",
    "\n",
    "def tilingCouryardWrapper(n, rMiss, cMiss):\n",
    "    yard = [[-1]*(2**n)]*(2**size)\n",
    "    tilingCourdyard(yard, 2**n, 0, 0, rMiss, cMiss, 0)\n",
    "    return yard\n",
    "\n",
    "n = 3\n",
    "rMiss = 4\n",
    "cMiss = 6\n",
    "\n",
    "result = tilingCouryardWrapper(n, rMiss, cMiss)\n",
    "result"
   ]
  },
  {
   "cell_type": "markdown",
   "metadata": {},
   "source": [
    "Puzzle 8: You Won't Want to Play Sudoku Again"
   ]
  },
  {
   "cell_type": "code",
   "execution_count": 332,
   "metadata": {},
   "outputs": [
    {
     "name": "stdout",
     "output_type": "stream",
     "text": [
      "[5, 1, 7]   [6, 9, 8]   [2, 3, 4]\n",
      "[2, 8, 9]   [1, 3, 4]   [7, 5, 6]\n",
      "[3, 4, 6]   [2, 7, 5]   [8, 9, 1]\n",
      " \n",
      "[6, 7, 2]   [8, 4, 9]   [3, 1, 5]\n",
      "[1, 3, 8]   [5, 2, 6]   [9, 4, 7]\n",
      "[9, 5, 4]   [7, 1, 3]   [6, 8, 2]\n",
      " \n",
      "[4, 9, 5]   [3, 6, 2]   [1, 7, 8]\n",
      "[7, 2, 3]   [4, 8, 1]   [5, 6, 9]\n",
      "[8, 6, 1]   [9, 5, 7]   [4, 2, 3]\n",
      "Backtracks =  2\n",
      "True\n",
      "[8, 5, 9]   [6, 1, 2]   [4, 3, 7]\n",
      "[7, 2, 3]   [8, 5, 4]   [1, 6, 9]\n",
      "[1, 6, 4]   [3, 7, 9]   [5, 2, 8]\n",
      " \n",
      "[9, 8, 6]   [1, 4, 7]   [3, 5, 2]\n",
      "[3, 7, 5]   [2, 6, 8]   [9, 1, 4]\n",
      "[2, 4, 1]   [5, 9, 3]   [7, 8, 6]\n",
      " \n",
      "[4, 3, 2]   [9, 8, 1]   [6, 7, 5]\n",
      "[6, 1, 7]   [4, 2, 5]   [8, 9, 3]\n",
      "[5, 9, 8]   [7, 3, 6]   [2, 4, 1]\n",
      "Backtracks =  11536\n",
      "[0, 0, 5]   [3, 0, 0]   [0, 0, 0]\n",
      "[8, 0, 0]   [0, 0, 0]   [0, 2, 0]\n",
      "[0, 7, 0]   [0, 1, 0]   [5, 0, 0]\n",
      " \n",
      "[4, 0, 0]   [0, 0, 5]   [3, 0, 0]\n",
      "[0, 1, 0]   [0, 7, 0]   [0, 0, 6]\n",
      "[0, 0, 3]   [2, 0, 0]   [0, 8, 0]\n",
      " \n",
      "[0, 6, 0]   [5, 0, 0]   [0, 0, 9]\n",
      "[0, 0, 4]   [0, 0, 0]   [0, 3, 0]\n",
      "[0, 0, 0]   [0, 0, 9]   [7, 0, 0]\n",
      "True\n",
      "[1, 4, 5]   [3, 2, 7]   [6, 9, 8]\n",
      "[8, 3, 9]   [6, 5, 4]   [1, 2, 7]\n",
      "[6, 7, 2]   [9, 1, 8]   [5, 4, 3]\n",
      " \n",
      "[4, 9, 6]   [1, 8, 5]   [3, 7, 2]\n",
      "[2, 1, 8]   [4, 7, 3]   [9, 5, 6]\n",
      "[7, 5, 3]   [2, 9, 6]   [4, 8, 1]\n",
      " \n",
      "[3, 6, 7]   [5, 4, 2]   [8, 1, 9]\n",
      "[9, 8, 4]   [7, 6, 1]   [2, 3, 5]\n",
      "[5, 2, 1]   [8, 3, 9]   [7, 6, 4]\n",
      "Backtracks =  232\n"
     ]
    }
   ],
   "source": [
    "#Programming for the Puzzled -- Srini Devadas\n",
    "#You Will Never Want to Play Sudoku Again\n",
    "#Given a partially filled in Sudoku board, complete the puzzle\n",
    "#obeying the rules of Sudoku\n",
    "\n",
    "backtracks = 0\n",
    "\n",
    "#x varies from entry1 to entry2 - 1, y varies from entry3 to entry4 - 1 \n",
    "sectors = [ [0, 3, 0, 3], [3, 6, 0, 3], [6, 9, 0, 3],\n",
    "            [0, 3, 3, 6], [3, 6, 3, 6], [6, 9, 3, 6],\n",
    "            [0, 3, 6, 9], [3, 6, 6, 9], [6, 9, 6, 9] ]\n",
    "\n",
    "#This procedure finds the next empty square to fill on the Sudoku grid\n",
    "def findNextCellToFill(grid):\n",
    "    #Look for an unfilled grid location\n",
    "    for x in range(0, 9):\n",
    "        for y in range(0, 9):\n",
    "            if grid[x][y] == 0:\n",
    "                return x,y\n",
    "    return -1,-1\n",
    "\n",
    "#This procedure checks if setting the (i, j) square to e is valid\n",
    "def isValid(grid, i, j, e):\n",
    "    rowOk = all([e != grid[i][x] for x in range(9)])\n",
    "    if rowOk:\n",
    "        columnOk = all([e != grid[x][j] for x in range(9)])\n",
    "        if columnOk:\n",
    "            #finding the top left x,y co-ordinates of\n",
    "            #the section or sub-grid containing the i,j cell\n",
    "            secTopX, secTopY = 3 *(i//3), 3 *(j//3)\n",
    "            for x in range(secTopX, secTopX+3):\n",
    "                for y in range(secTopY, secTopY+3):\n",
    "                    if grid[x][y] == e:\n",
    "                        return False\n",
    "            return True\n",
    "    return False\n",
    "\n",
    "\n",
    "#This procedure makes implications based on existing numbers on squares\n",
    "def makeImplications(grid, i, j, e):\n",
    "\n",
    "    global sectors\n",
    "\n",
    "    grid[i][j] = e\n",
    "    impl = [(i, j, e)]\n",
    "    done = False\n",
    "    while not done:\n",
    "        done = True\n",
    "        for k in range(len(sectors)):\n",
    "\n",
    "            sectinfo = []\n",
    "\n",
    "            #find missing elements in ith sector\n",
    "            vset = {1, 2, 3, 4, 5, 6, 7, 8, 9}\n",
    "            for x in range(sectors[k][0], sectors[k][1]):\n",
    "                for y in range(sectors[k][2], sectors[k][3]):\n",
    "                    if grid[x][y] != 0:\n",
    "                        vset.remove(grid[x][y])\n",
    "\n",
    "            #attach copy of vset to each missing square in ith sector\n",
    "            for x in range(sectors[k][0], sectors[k][1]):\n",
    "                for y in range(sectors[k][2], sectors[k][3]):\n",
    "                    if grid[x][y] == 0:\n",
    "                        sectinfo.append([x, y, vset.copy()])\n",
    "            \n",
    "            for m in range(len(sectinfo)):\n",
    "                sin = sectinfo[m]\n",
    "                \n",
    "                #find the set of elements on the row corresponding to m and remove them\n",
    "                rowv = set()\n",
    "                for y in range(9):\n",
    "                    rowv.add(grid[sin[0]][y])\n",
    "                left = sin[2].difference(rowv) #### Me: remove the same element on row\n",
    "                \n",
    "                #find the set of elements on the column corresponding to m and remove them\n",
    "                colv = set()\n",
    "                for x in range(9):\n",
    "                    colv.add(grid[x][sin[1]])\n",
    "                left = left.difference(colv) #### Me: remove the same element on column\n",
    "                            \n",
    "                #check if the vset is a singleton\n",
    "                if len(left) == 1:\n",
    "                    val = left.pop()\n",
    "                    if isValid(grid, sin[0], sin[1], val):\n",
    "                        grid[sin[0]][sin[1]] = val\n",
    "                        impl.append((sin[0], sin[1], val))\n",
    "                        done = False\n",
    "                \n",
    "    return impl\n",
    "\n",
    "#This procedure undoes all the implications\n",
    "def undoImplications(grid, impl):\n",
    "    for i in range(len(impl)):\n",
    "        grid[impl[i][0]][impl[i][1]] = 0\n",
    "    return\n",
    "\n",
    "\n",
    "#This procedure fills in the missing squares of a Sudoku puzzle\n",
    "#obeying the Sudoku rules by guessing when it has to and performing\n",
    "#implications when it can\n",
    "def solveSudokuOpt(grid, i = 0, j = 0):\n",
    "\n",
    "    global backtracks\n",
    "\n",
    "    #find the next empty cell to fill\n",
    "    i, j = findNextCellToFill(grid)\n",
    "    if i == -1:\n",
    "        return True\n",
    "\n",
    "    for e in range(1, 10):\n",
    "        #Try different values in i, j location\n",
    "        if isValid(grid, i, j, e):\n",
    "\n",
    "            impl = makeImplications(grid, i, j, e)\n",
    "            \n",
    "            if solveSudokuOpt(grid, i, j):\n",
    "                return True\n",
    "            #Undo the current cell for backtracking\n",
    "            backtracks += 1\n",
    "            undoImplications(grid, impl)\n",
    "\n",
    "    return False\n",
    "\n",
    "def printSudoku(grid):\n",
    "    numrow = 0\n",
    "    for row in grid:\n",
    "        if numrow % 3 == 0 and numrow != 0:\n",
    "            print (' ')\n",
    "        print (row[0:3], ' ', row[3:6], ' ', row[6:9])\n",
    "        numrow += 1       \n",
    "    return\n",
    "\n",
    "input = [[5,1,7,6,0,0,0,3,4],\n",
    "         [2,8,9,0,0,4,0,0,0],\n",
    "         [3,4,6,2,0,5,0,9,0],\n",
    "         [6,0,2,0,0,0,0,1,0],\n",
    "         [0,3,8,0,0,6,0,4,7],\n",
    "         [0,0,0,0,0,0,0,0,0],\n",
    "         [0,9,0,0,0,0,0,7,8],\n",
    "         [7,0,3,4,0,0,5,6,0],\n",
    "         [0,0,0,0,0,0,0,0,0]]\n",
    "\n",
    "inp2  = [[5,1,7,6,0,0,0,3,4],\n",
    "         [0,8,9,0,0,4,0,0,0],\n",
    "         [3,0,6,2,0,5,0,9,0],\n",
    "         [6,0,0,0,0,0,0,1,0],\n",
    "         [0,3,0,0,0,6,0,4,7],\n",
    "         [0,0,0,0,0,0,0,0,0],\n",
    "         [0,9,0,0,0,0,0,7,8],\n",
    "         [7,0,3,4,0,0,5,6,0],\n",
    "         [0,0,0,0,0,0,0,0,0]]\n",
    "\n",
    "hard  = [[8,5,0,0,0,2,4,0,0],\n",
    "         [7,2,0,0,0,0,0,0,9],\n",
    "         [0,0,4,0,0,0,0,0,0],\n",
    "         [0,0,0,1,0,7,0,0,2],\n",
    "         [3,0,5,0,0,0,9,0,0],\n",
    "         [0,4,0,0,0,0,0,0,0],\n",
    "         [0,0,0,0,8,0,0,7,0],\n",
    "         [0,1,7,0,0,0,0,0,0],\n",
    "         [0,0,0,0,3,6,0,4,0]]\n",
    "\n",
    "diff  = [[0,0,5,3,0,0,0,0,0],\n",
    "         [8,0,0,0,0,0,0,2,0],\n",
    "         [0,7,0,0,1,0,5,0,0],\n",
    "         [4,0,0,0,0,5,3,0,0],\n",
    "         [0,1,0,0,7,0,0,0,6],\n",
    "         [0,0,3,2,0,0,0,8,0],\n",
    "         [0,6,0,5,0,0,0,0,9],\n",
    "         [0,0,4,0,0,0,0,3,0],\n",
    "         [0,0,0,0,0,9,7,0,0]]\n",
    "\n",
    "\n",
    "solveSudokuOpt(inp2)\n",
    "printSudoku(inp2)\n",
    "print ('Backtracks = ', backtracks)\n",
    "\n",
    "\n",
    "backtracks = 0\n",
    "print(solveSudokuOpt(hard))\n",
    "printSudoku(hard)\n",
    "print ('Backtracks = ', backtracks)\n",
    "\n",
    "backtracks = 0\n",
    "printSudoku(diff)\n",
    "print(solveSudokuOpt(diff))\n",
    "printSudoku(diff)\n",
    "print ('Backtracks = ', backtracks)\n"
   ]
  },
  {
   "cell_type": "code",
   "execution_count": 208,
   "metadata": {},
   "outputs": [
    {
     "name": "stdout",
     "output_type": "stream",
     "text": [
      "aabc abad aabadabc\n",
      "aabc bad abadabc\n",
      "abc bad badabc\n",
      "abc ad adabc\n",
      "bc ad dabc\n"
     ]
    },
    {
     "data": {
      "text/plain": [
       "False"
      ]
     },
     "execution_count": 208,
     "metadata": {},
     "output_type": "execute_result"
    }
   ],
   "source": [
    "s1 = \"aabcc\"\n",
    "s2 = \"dbbca\"\n",
    "s3 = \"aadbbcbcac\"\n",
    "\n",
    "def isInterleave(s1, s2, s3):\n",
    "    print(s1, s2, s3)\n",
    "    if (s3 == '' and s1 != '') or (s3 == '' and s2 != ''):\n",
    "        return False\n",
    "    \n",
    "    if s3 == '':\n",
    "        if s1 != '' or s1 != '':\n",
    "            return False\n",
    "        else:\n",
    "            return True\n",
    "\n",
    "    if s1 != '' and s2 != '' and s1[0] == s2[0] == s3[0]:\n",
    "        if len(s1) > len(s2):\n",
    "            return isInterleave(s1[1:], s2, s3[1:])\n",
    "        else:\n",
    "            return isInterleave(s1, s2[1:], s3[1:])\n",
    "    \n",
    "    elif s1 != '' and s1[0] == s3[0]:\n",
    "        return isInterleave(s1[1:], s2, s3[1:])\n",
    "    \n",
    "    elif s2 != '' and s2[0] == s3[0]:\n",
    "        return isInterleave(s1, s2[1:], s3[1:])\n",
    "\n",
    "    return False\n",
    "\n",
    "s1 = \"aabc\"\n",
    "s2 = \"abad\"\n",
    "s3 = \"aabadabc\"\n",
    "\n",
    "\n",
    "isInterleave(s1, s2, s3)"
   ]
  },
  {
   "cell_type": "code",
   "execution_count": 215,
   "metadata": {},
   "outputs": [],
   "source": [
    "s1 = \"aabc\"\n",
    "s2 = \"abad\"\n",
    "s3 = \"aabadabc\"\n",
    "\n",
    "def isInterleave(s1,s2,s3):\n",
    "    pass\n",
    "\n",
    "\n",
    "isInterleave(s1, s2, s3)"
   ]
  },
  {
   "cell_type": "code",
   "execution_count": null,
   "metadata": {},
   "outputs": [],
   "source": []
  }
 ],
 "metadata": {
  "kernelspec": {
   "display_name": "Python 3",
   "language": "python",
   "name": "python3"
  },
  "language_info": {
   "codemirror_mode": {
    "name": "ipython",
    "version": 3
   },
   "file_extension": ".py",
   "mimetype": "text/x-python",
   "name": "python",
   "nbconvert_exporter": "python",
   "pygments_lexer": "ipython3",
   "version": "3.11.5"
  },
  "orig_nbformat": 4
 },
 "nbformat": 4,
 "nbformat_minor": 2
}
