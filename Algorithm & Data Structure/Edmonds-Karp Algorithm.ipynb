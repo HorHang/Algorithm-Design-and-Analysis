{
 "cells": [
  {
   "cell_type": "markdown",
   "metadata": {},
   "source": [
    "Ford-Fulkerson Method (Edmonds-Karp Algorithm)"
   ]
  },
  {
   "cell_type": "code",
   "execution_count": 163,
   "metadata": {},
   "outputs": [
    {
     "name": "stdout",
     "output_type": "stream",
     "text": [
      "[[0, 4, 2, 0, 0, 0], [12, 0, 10, 0, 0, 0], [11, 4, 0, 0, 3, 0], [0, 12, 9, 0, 7, 1], [0, 0, 11, 0, 0, 0], [0, 0, 0, 19, 4, 0]]\n",
      "The maximum possible flow is 23 \n"
     ]
    }
   ],
   "source": [
    "class Graph:\n",
    "\n",
    "    def __init__(self, graph):\n",
    "        self.graph = graph\n",
    "        self.row = len(graph)\n",
    "\n",
    "    def bfs(self, parent, s, t):\n",
    "        parent[s] = True\n",
    "        visited = [False]*self.row\n",
    "        visited[s] = True\n",
    "        frontier = [s]\n",
    "        while frontier:\n",
    "            u = frontier.pop(0)\n",
    "            for v, cap in enumerate(self.graph[u]):\n",
    "                if visited[v] == False and cap > 0:\n",
    "                    parent[v] = u\n",
    "                    visited[v] = True\n",
    "                    frontier.append(v)\n",
    "                    if v == t:\n",
    "                        return True\n",
    "        return False\n",
    "\n",
    "    def edmonds_karp(self, s, t):\n",
    "        parent = [False] * self.row\n",
    "        max_flow = 0\n",
    "        \n",
    "        while self.bfs(parent, s, t):\n",
    "            flow = float('inf')\n",
    "            \n",
    "            v = t\n",
    "            while v != s:\n",
    "                flow = min(flow, self.graph[parent[v]][v])\n",
    "                v = parent[v]\n",
    "            \n",
    "            max_flow += flow\n",
    "\n",
    "            v = t\n",
    "            while v != s:\n",
    "                u = parent[v]\n",
    "                self.graph[u][v] -= flow\n",
    "                self.graph[v][u] += flow\n",
    "                v = parent[v]\n",
    "\n",
    "        print(self.graph)\n",
    "        return max_flow\n",
    "\n",
    "graph = [[0, 1000000, 1000000, 0], [0, 0, 1, 1000000], [0, 0, 0, 1000000], [0, 0, 0, 0]]\n",
    "\n",
    "graph = [[0, 16, 13, 0, 0, 0],\n",
    "        [0, 0, 10, 12, 0, 0],\n",
    "        [0, 4, 0, 0, 14, 0],\n",
    "        [0, 0, 9, 0, 0, 20],\n",
    "        [0, 0, 0, 7, 0, 4],\n",
    "        [0, 0, 0, 0, 0, 0]]\n",
    "\n",
    "g = Graph(graph)\n",
    "\n",
    "source = 0; sink = 5\n",
    "\n",
    "print (\"The maximum possible flow is %d \" % g.edmonds_karp(source, sink))"
   ]
  }
 ],
 "metadata": {
  "kernelspec": {
   "display_name": "Python 3",
   "language": "python",
   "name": "python3"
  },
  "language_info": {
   "codemirror_mode": {
    "name": "ipython",
    "version": 3
   },
   "file_extension": ".py",
   "mimetype": "text/x-python",
   "name": "python",
   "nbconvert_exporter": "python",
   "pygments_lexer": "ipython3",
   "version": "3.11.5"
  },
  "orig_nbformat": 4
 },
 "nbformat": 4,
 "nbformat_minor": 2
}
