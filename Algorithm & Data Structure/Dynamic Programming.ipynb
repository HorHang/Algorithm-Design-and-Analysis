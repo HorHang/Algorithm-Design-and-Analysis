{
 "cells": [
  {
   "cell_type": "markdown",
   "metadata": {},
   "source": [
    "## Dynamic Programing"
   ]
  },
  {
   "cell_type": "markdown",
   "metadata": {},
   "source": [
    "##### 1. Rod Cutting"
   ]
  },
  {
   "cell_type": "code",
   "execution_count": null,
   "metadata": {},
   "outputs": [],
   "source": [
    "def cut_rod(p,n):\n",
    "    if n == 0:\n",
    "        return 0\n",
    "    q = -1\n",
    "    for i in range(1,n+1):\n",
    "        q = max(q, p[i] + cut_rod(p,n-i))\n",
    "    return q\n",
    "\n",
    "p = {1:1, 2:5, 3:8, 4:9, 5:10, 6:17, 7:17, 8:20, 9:24, 10:30, 11:32, 12:34, 13:38, 14:40, 15:43, 16:47}\n",
    "# cut_rod(p,2)\n",
    "\n",
    "import timeit\n",
    "# %timeit cut_rod(p,16)\n",
    "\n",
    "def memoized_cut_rod(p,n):\n",
    "    r = {}\n",
    "    for i in range(0,n+1):\n",
    "        r[i] = -1\n",
    "    return memoized_cut_rod_aux(p,n,r)\n",
    "\n",
    "def memoized_cut_rod_aux(p,n,r):\n",
    "    if r[n] >= 0: # O(1) lookup from dicts' key\n",
    "        return r[n]\n",
    "    if n == 0:\n",
    "        q = 0\n",
    "    else:\n",
    "        q = -1\n",
    "        for i in range(1,n+1):\n",
    "            q = max(q, p[i] + memoized_cut_rod_aux(p,n-i,r))\n",
    "\n",
    "    r[n] = q\n",
    "    return q\n",
    "\n",
    "\n",
    "\n",
    "# %timeit memoized_cut_rod(p,16)\n",
    "# %timeit cut_rod(p,16)\n",
    "\n",
    "def bottom_up_cut_rod_ext(p,n):\n",
    "    r = {}\n",
    "    s = {}\n",
    "    r[0] = 0\n",
    "    for j in range(1,n+1):\n",
    "        q = -1\n",
    "        for i in range(1,j+1):\n",
    "            if q < p[i] + r[j-i]:\n",
    "                q = max(q, p[i] + r[j-i]) # requires r[1] ==> r[2-1] for 2nd loop; first loop r[j-i=0] = 0. i.e. j = i =1\n",
    "                s[j] = i\n",
    "        r[j] = q # record the computed result of the optimal subproblem solution\n",
    "    return r, s\n",
    "\n",
    "def print_bottom_up_cut_rod(p,n):\n",
    "    r, s = bottom_up_cut_rod_ext(p,n)\n",
    "    while n > 0:\n",
    "        print(s[n])\n",
    "        n = n - s[n]\n",
    "\n",
    "# %timeit cut_rod(p,16)\n",
    "# %timeit bottom_up_cut_rod(p,16)\n",
    "# %timeit memoized_cut_rod(p,16)\n",
    "n = 4\n",
    "bottom_up_cut_rod_ext(p,n), print_bottom_up_cut_rod(p,n)"
   ]
  },
  {
   "cell_type": "code",
   "execution_count": null,
   "metadata": {},
   "outputs": [],
   "source": [
    "print(p)"
   ]
  },
  {
   "cell_type": "markdown",
   "metadata": {},
   "source": [
    "##### 2. Matrix Multiplication"
   ]
  },
  {
   "cell_type": "markdown",
   "metadata": {},
   "source": [
    "###### 2.1 Bottom up DP"
   ]
  },
  {
   "cell_type": "code",
   "execution_count": null,
   "metadata": {},
   "outputs": [],
   "source": [
    "import numpy as np\n",
    "p1 = {0: 30, 1:35, 2:15, 3:5, 4:10, 5:20, 6:25}\n",
    "p2 = {0: 30, 1:35, 2:15, 3:5, 4:10, 5:20, 6:25, 7: 40, 8: 80}\n",
    "\n",
    "def matrix_multi_parens(p):\n",
    "    n = len(p)-1\n",
    "    m = {}\n",
    "    s = {}\n",
    "\n",
    "    for i in range(1,n+1):\n",
    "        m[(i,i)] = 0\n",
    "\n",
    "    for l in range(2,n+1):\n",
    "        for i in range(1,n-l+2):\n",
    "            j = i+l-1\n",
    "            m[(i,j)] = np.inf\n",
    "            for k in range(i,j):\n",
    "                q = m[(i,k)] + m[(k+1,j)] + p[i-1]*p[k]*p[j]\n",
    "                if q < m[(i,j)]:\n",
    "                    m[(i,j)] = q\n",
    "                    s[(i,j)] = k\n",
    "    return m,s\n",
    "\n",
    "m1,s1 = matrix_multi_parens(p1)\n",
    "m2,s2 = matrix_multi_parens(p2)\n",
    "m1"
   ]
  },
  {
   "cell_type": "code",
   "execution_count": null,
   "metadata": {},
   "outputs": [],
   "source": [
    "def print_optimal_parens(s,i,j):\n",
    "    if i == j:\n",
    "        print(f\"A{i}\", end=\"\")\n",
    "    else:\n",
    "        print(\"(\", end=\"\")\n",
    "        print_optimal_parens(s,i,s[(i,j)])\n",
    "        print_optimal_parens(s,s[(i,j)]+1,j)\n",
    "        print(\")\",end=\"\")\n",
    "\n",
    "result = print_optimal_parens(s1,1,6)\n",
    "result2 = print_optimal_parens(s2,1,8)\n",
    "result, result2"
   ]
  },
  {
   "cell_type": "markdown",
   "metadata": {},
   "source": [
    "###### 2.2 Top down recursive"
   ]
  },
  {
   "cell_type": "code",
   "execution_count": null,
   "metadata": {},
   "outputs": [],
   "source": [
    "import numpy as np\n",
    "def recursive_matrix_chain(p,i,j):\n",
    "    if i == j:\n",
    "        return 0\n",
    "    m = {}\n",
    "    m[(i,j)] = np.inf\n",
    "    for k in range(i,j):\n",
    "        q = recursive_matrix_chain(p,i,k) + recursive_matrix_chain(p,k+1,j) + p[i-1]*p[k]*p[j]\n",
    "        if q < m[(i,j)]:\n",
    "            m[(i,j)] = q\n",
    "    return m[(i,j)]\n",
    "\n",
    "p = {0: 30, 1:35, 2:15, 3:5, 4:10, 5:20, 6:25}\n",
    "recursive_matrix_chain(p,1,6)"
   ]
  },
  {
   "cell_type": "markdown",
   "metadata": {},
   "source": [
    "###### 2.3 Memoized top-down DP"
   ]
  },
  {
   "cell_type": "code",
   "execution_count": null,
   "metadata": {},
   "outputs": [],
   "source": [
    "def memoized_matrix_chain(p):\n",
    "    n = len(p) - 1\n",
    "    m = {}\n",
    "    for i in range(1,n+1):\n",
    "        for j in range(1,n+1):\n",
    "            m[(i,j)] = np.inf\n",
    "    return lookup_chain(m,p,1,n)\n",
    "\n",
    "def lookup_chain(m,p,i,j):\n",
    "    if m[(i,j)] < np.inf:\n",
    "        return m[(i,j)]\n",
    "    if i == j:\n",
    "        m[(i,j)] = 0\n",
    "    else:\n",
    "        for k in range(i,j):\n",
    "            q = lookup_chain(m,p,i,k) + lookup_chain(m,p,k+1,j) + p[i-1]*p[k]*p[j]\n",
    "            if q < m[(i,j)]:\n",
    "                m[(i,j)] = q\n",
    "    return m[(i,j)]\n",
    "\n",
    "memoized_matrix_chain(p)"
   ]
  },
  {
   "cell_type": "markdown",
   "metadata": {},
   "source": [
    "##### 3. Long Common Subsequence (LCS)"
   ]
  },
  {
   "cell_type": "code",
   "execution_count": null,
   "metadata": {},
   "outputs": [],
   "source": [
    "def LCS(X,Y):\n",
    "    m = len(X)\n",
    "    n = len(Y)\n",
    "    b = {} # store the arrow\n",
    "    c = {} # store the computed LCS\n",
    "    c[(0,0)] = 0\n",
    "    for i in range(1,m+1):\n",
    "        c[(i,0)] = 0\n",
    "    for j in range(1,n+1):\n",
    "        c[(0,j)] = 0\n",
    "    for i in range(1,m+1):\n",
    "        for j in range(1,n+1):\n",
    "            if X[i] == Y[j]:\n",
    "                c[(i,j)] = c[(i-1,j-1)] + 1\n",
    "                b[(i,j)] = \"&\"\n",
    "            elif c[(i-1,j)] >= c[(i,j-1)]:\n",
    "                c[(i,j)] = c[(i-1,j)]\n",
    "                b[i,j] = \"^\"\n",
    "            else:\n",
    "                c[(i,j)] = c[i,j-1]\n",
    "                b[(i,j)] = \"<\"\n",
    "    return c, b\n",
    "\n",
    "X = {1:'a',2:'b',3:'c',4:'b',5:'d',6:'a',7:'b'}\n",
    "Y = {1:'b',2:'d',3:'c',4:'a',5:'b',6:'a'}\n",
    "\n",
    "c,b = LCS(X,Y)\n",
    "\n",
    "def print_LCS(b,X,i,j):\n",
    "    if i == 0 or j == 0:\n",
    "        return\n",
    "    if b[(i,j)] == \"&\":\n",
    "        print_LCS(b,X,i-1,j-1)\n",
    "        print(X[i],end=\"\")\n",
    "    elif b[(i,j)] == \"^\":\n",
    "        print_LCS(b,X,i-1,j)\n",
    "    else:\n",
    "        print_LCS(b,X,i,j-1)\n",
    "\n",
    "print_LCS(b,X,7,6)"
   ]
  },
  {
   "cell_type": "markdown",
   "metadata": {},
   "source": [
    "##### 4. Optimal Binary Search Tree (BST)"
   ]
  },
  {
   "cell_type": "code",
   "execution_count": null,
   "metadata": {},
   "outputs": [],
   "source": [
    "def optimal_BST(p,q,n):\n",
    "    e = {} # expected value\n",
    "    w = {}\n",
    "    for i in range(1,n+2):\n",
    "        e[(i,i-1)] = q[i-1]\n",
    "        w[(i,i-1)] = q[i-1]\n",
    "    \n",
    "    for l in range(1,n+1):\n",
    "        for i in range(1,n-l+2):\n",
    "            j = i+l-1\n",
    "            e[(i,j)] = np.inf\n",
    "            w[(i,j)] = w[(i,j-1)] + p[j] + q[j]\n",
    "            for r in range(i,j+1):\n",
    "                t = e[(i,r-1)] + e[(r+1,j)] + w[(i,j)]\n",
    "                if t < e[(i,j)]:\n",
    "                    e[(i,j)] = t\n",
    "                    w[(i,j)] = r\n",
    "    return w, e\n",
    "\n",
    "\n",
    "p = {1:0.15, 2:0.10, 3:0.05, 4:0.10, 5:0.20}\n",
    "q = {0:0.05, 1:0.10, 2:0.05, 3:0.05, 4:0.05, 5:0.10}\n",
    "n = 5\n",
    "\n",
    "w, e = optimal_BST(p,q,n)\n",
    "\n",
    "w, e"
   ]
  },
  {
   "cell_type": "markdown",
   "metadata": {},
   "source": [
    "# TODO"
   ]
  },
  {
   "cell_type": "markdown",
   "metadata": {},
   "source": [
    "#### 5. Longest Increasing Subsequence (LIS)"
   ]
  },
  {
   "cell_type": "markdown",
   "metadata": {},
   "source": [
    "#### 6. Longest Common Palindromic Sequence"
   ]
  },
  {
   "cell_type": "markdown",
   "metadata": {},
   "source": [
    "#### 7. Alternating Coins Game"
   ]
  },
  {
   "cell_type": "markdown",
   "metadata": {},
   "source": [
    "#### 8. Subset Sum"
   ]
  },
  {
   "cell_type": "markdown",
   "metadata": {},
   "source": [
    "#### 9. Edit Distance"
   ]
  },
  {
   "cell_type": "markdown",
   "metadata": {},
   "source": [
    "#### 10. Knapsack Problem"
   ]
  }
 ],
 "metadata": {
  "language_info": {
   "name": "python"
  }
 },
 "nbformat": 4,
 "nbformat_minor": 2
}
