{
 "cells": [
  {
   "cell_type": "markdown",
   "metadata": {},
   "source": [
    "## Graph Algorithm"
   ]
  },
  {
   "cell_type": "markdown",
   "metadata": {},
   "source": [
    "#### Create Adjacency List"
   ]
  },
  {
   "cell_type": "code",
   "execution_count": null,
   "metadata": {},
   "outputs": [
    {
     "data": {
      "text/plain": [
       "{'s': ['a', 'x'],\n",
       " 'a': ['s', 'z'],\n",
       " 'x': ['s', 'c'],\n",
       " 'z': ['a'],\n",
       " 'd': ['c', 'f'],\n",
       " 'c': ['x', 'd', 'f', 'v'],\n",
       " 'f': ['d', 'c'],\n",
       " 'v': ['c']}"
      ]
     },
     "metadata": {},
     "output_type": "display_data"
    }
   ],
   "source": [
    "# G = (V, E)\n",
    "from collections import namedtuple\n",
    "\n",
    "Graph = namedtuple(\"Graph\", [\"nodes\", \"edges\",\"isDirected\"])\n",
    "nodes = ['s','a','x','z','d','c','f','v']\n",
    "edges = [\n",
    "    ('s','a'),\n",
    "    ('a','z'),\n",
    "    ('s','x'),\n",
    "    ('x','c'),\n",
    "    ('d','c'),\n",
    "    ('d','f'),\n",
    "    ('c','f'),\n",
    "    ('c','v'),\n",
    "]\n",
    "\n",
    "G = Graph(nodes,edges,isDirected = False)\n",
    "\n",
    "def adjacency_dict(graph):\n",
    "    \"\"\"\n",
    "    Returns the adjacency list representation\n",
    "    of the graph.\n",
    "    \"\"\"\n",
    "    adj = {node: [] for node in graph.nodes}\n",
    "    for edge in graph.edges:\n",
    "        node1, node2 = edge[0], edge[1]\n",
    "        adj[node1].append(node2)\n",
    "        if graph.isDirected == False:\n",
    "            adj[node2].append(node1)\n",
    "    return adj\n",
    "\n",
    "Adj = adjacency_dict(G)\n",
    "Adj"
   ]
  },
  {
   "cell_type": "markdown",
   "metadata": {},
   "source": [
    "#### Breadth-First Search"
   ]
  },
  {
   "cell_type": "code",
   "execution_count": null,
   "metadata": {},
   "outputs": [
    {
     "data": {
      "text/plain": [
       "['s', 'x', 'c', 'v']"
      ]
     },
     "metadata": {},
     "output_type": "display_data"
    }
   ],
   "source": [
    "def BFS(Adj,s):\n",
    "    level = {s:0}\n",
    "    parent = {s: None}\n",
    "    i = 1\n",
    "    frontier = [s]\n",
    "    while frontier:\n",
    "        next = []\n",
    "        for u in frontier:\n",
    "            for v in Adj[u]:\n",
    "                if v not in level:\n",
    "                    level[v] = i\n",
    "                    parent[v] = u\n",
    "                    next.append(v)\n",
    "        frontier = next\n",
    "        i += 1\n",
    "    return parent\n",
    "\n",
    "def unweighted_shortest_path(Adj,s,t):\n",
    "    parent = BFS(Adj,s)\n",
    "    if parent is None:\n",
    "        return None\n",
    "    path = [t]\n",
    "    i = t\n",
    "    while i != s:\n",
    "        i = parent[i]\n",
    "        path.append(i)\n",
    "    path.reverse()\n",
    "    return path\n",
    "\n",
    "unweighted_shortest_path(Adj,'s','v')"
   ]
  },
  {
   "cell_type": "markdown",
   "metadata": {},
   "source": [
    "#### Dept-First Search"
   ]
  },
  {
   "cell_type": "code",
   "execution_count": null,
   "metadata": {},
   "outputs": [
    {
     "data": {
      "text/plain": [
       "({'s': None,\n",
       "  'a': 's',\n",
       "  'z': 'a',\n",
       "  'x': 's',\n",
       "  'c': 'x',\n",
       "  'd': 'c',\n",
       "  'f': 'd',\n",
       "  'v': 'c'},\n",
       " ['s', 'x', 'c', 'v', 'd', 'f', 'a', 'z'])"
      ]
     },
     "metadata": {},
     "output_type": "display_data"
    }
   ],
   "source": [
    "def DFS_visit(Adj,parent,order,s):\n",
    "    for v in Adj[s]:\n",
    "        if v not in parent:\n",
    "            parent[v] = s\n",
    "            DFS_visit(Adj,parent,order,v)\n",
    "    order.append(s)\n",
    "\n",
    "def DFS(Adj,s):\n",
    "    parent = {}\n",
    "    order = []\n",
    "    for s in Adj:\n",
    "        if s not in parent:\n",
    "            parent[s] = None\n",
    "            DFS_visit(Adj,parent,order,s) ### Remember: python just don't bring the reference, i.e. parent[s] = None to the next call function.\n",
    "                                            #### So, we need to add that parameter explicitely.\n",
    "    order.reverse()\n",
    "    return parent, order\n",
    "\n",
    "parent, order = DFS(Adj,'s')\n",
    "parent, order"
   ]
  },
  {
   "cell_type": "markdown",
   "metadata": {},
   "source": [
    "#### Weighted Shortest Paths in a DAG"
   ]
  },
  {
   "cell_type": "code",
   "execution_count": null,
   "metadata": {},
   "outputs": [
    {
     "data": {
      "text/plain": [
       "({0: inf, 1: 0, 2: 2, 3: 6, 4: 5, 5: 3},\n",
       " {0: None, 1: None, 2: 1, 3: 1, 4: 3, 5: 4})"
      ]
     },
     "metadata": {},
     "output_type": "display_data"
    }
   ],
   "source": [
    "import numpy as np\n",
    "\n",
    "w = {0:{1:5,2:3},\n",
    "      1:{2:2,3:6},\n",
    "      2:{3:7,4:4,5:2},\n",
    "      3:{4:-1,5:1},\n",
    "      4:{5:-2},\n",
    "      5:{}}\n",
    "\n",
    "Adj = {0:[1,2],\n",
    "       1:[2,3],\n",
    "       2:[3,4,5],\n",
    "       3:[4,5],\n",
    "       4:[5],\n",
    "       5:[]}\n",
    "\n",
    "V = [0,1,2,3,4,5]\n",
    "\n",
    "def init_single_source(V,s):\n",
    "    d = {}\n",
    "    parent = {}\n",
    "    for v in V:\n",
    "        d[v] = float('inf')\n",
    "        parent[v] = None\n",
    "    d[s] = 0\n",
    "    return parent, d\n",
    "\n",
    "def relax(u,v,w,parent,d):\n",
    "    if d[v] > d[u] + w[u][v]:\n",
    "        d[v] = d[u] + w[u][v]\n",
    "        parent[v] = u\n",
    "    return parent,d\n",
    "\n",
    "def DAG_shortest_paths(Adj,w,V,s):\n",
    "    _, order = DFS(V,Adj,s)\n",
    "    parent, d = init_single_source(V,s)\n",
    "    for u in order:\n",
    "        for v in Adj[u]:\n",
    "            relax(u,v,w,parent,d)\n",
    "    return d,parent\n",
    "\n",
    "DAG_shortest_paths(Adj,w,V,s=1)"
   ]
  },
  {
   "cell_type": "markdown",
   "metadata": {},
   "source": [
    "#### Bellman-Ford Algorithm"
   ]
  },
  {
   "cell_type": "code",
   "execution_count": null,
   "metadata": {},
   "outputs": [
    {
     "data": {
      "text/plain": [
       "({0: 0, 1: 2, 2: 4, 3: 7, 4: -2}, {0: None, 1: 2, 2: 3, 3: 0, 4: 1})"
      ]
     },
     "metadata": {},
     "output_type": "display_data"
    }
   ],
   "source": [
    "Adj2 = {0:[1,3],\n",
    "       1:[2,3,4],\n",
    "       2:[1],\n",
    "       3:[2,4],\n",
    "       4:[0,2]}\n",
    "\n",
    "w2 = {0:{1:6,3:7},\n",
    "     1:{2:5,3:8,4:-4},\n",
    "     2:{1:-2},\n",
    "     3:{2:-3,4:9},\n",
    "     4:{0:2,2:7}}\n",
    "\n",
    "V2 = [0,1,2,3,4]\n",
    "\n",
    "def bellman_ford(V,Adj,w,s):\n",
    "    parent, d = init_single_source(V,s)\n",
    "    for k in range(len(V)-1): ### Why?\n",
    "        for u in V:\n",
    "            for v in Adj[u]:\n",
    "                if d[v] > d[u] + w[u][v]:\n",
    "                    d[v] = d[u] + w[u][v]\n",
    "                    parent[v] = u\n",
    "    for u in V:\n",
    "        for v in Adj[u]:\n",
    "            if d[v] > d[u] + w[u][v]:\n",
    "                return False\n",
    "                # raise Exception(\"Oops! There's negative weithed cycle.\")\n",
    "    return d, parent\n",
    "    # return f\"Weight: {d}, Parent: {parent}\"\n",
    "\n",
    "bellman_ford(V2,Adj2,w2,0)"
   ]
  },
  {
   "cell_type": "markdown",
   "metadata": {},
   "source": [
    "#### Dijkstra Algorithm"
   ]
  },
  {
   "cell_type": "code",
   "execution_count": null,
   "metadata": {},
   "outputs": [
    {
     "data": {
      "text/plain": [
       "{1: 1, 2: 2, 3: 3, 4: 8, 5: 4, 6: 9, 7: 10, 8: 14, 9: 16, 10: 7, 11: 5, 12: 17}"
      ]
     },
     "metadata": {},
     "output_type": "display_data"
    }
   ],
   "source": [
    "heap_size = 10\n",
    "\n",
    "def parent(i):\n",
    "    return i//2\n",
    "def left(i):\n",
    "    return 2*i\n",
    "def right(i):\n",
    "    return 2*i + 1\n",
    "\n",
    "def min_heapify(A,heap_size,i):\n",
    "    l = left(i)\n",
    "    r = right(i)\n",
    "    if l <= heap_size and A[l] < A[i]:\n",
    "        largest = l\n",
    "    else:\n",
    "        largest = i\n",
    "    if r <= heap_size and A[r] < A[largest]:\n",
    "        largest = r\n",
    "    if largest != i:\n",
    "        A[largest], A[i] = A[i], A[largest]\n",
    "        min_heapify(A,heap_size,largest)\n",
    "\n",
    "def build_min_heap(A):\n",
    "    heap_size = len(A)\n",
    "    for i in range(len(A)//2,0,-1):\n",
    "        min_heapify(A,heap_size,i)\n",
    "\n",
    "def heap_sort(A):\n",
    "    heap_size = len(A)\n",
    "    build_min_heap(A)\n",
    "    for i in range(len(A),1,-1):\n",
    "        A[1],A[i] = A[i],A[1]\n",
    "        heap_size = heap_size - 1\n",
    "        min_heapify(A,heap_size,1)\n",
    "\n",
    "def heap_extract_min(A):\n",
    "    global heap_size\n",
    "    if heap_size < 1:\n",
    "        raise KeyError(\"heap underflow\")\n",
    "    min = A[1]\n",
    "    A[1] = A[heap_size]\n",
    "    heap_size = heap_size - 1\n",
    "    min_heapify(A,heap_size,1)\n",
    "    return min\n",
    "\n",
    "def heap_decrease(A,i,key):\n",
    "    if key > A[i]:\n",
    "        raise ValueError(\"new key is lager than the current key\")\n",
    "    A[i] = key\n",
    "    while i > 1 and A[i] < A[parent(i)]:\n",
    "        A[i], A[parent(i)] = A[parent(i)], A[i]\n",
    "        i = parent(i)\n",
    "\n",
    "def heap_insert(A,key):\n",
    "    global heap_size\n",
    "    heap_size = heap_size + 1\n",
    "    A[heap_size] = float('inf')\n",
    "    heap_decrease(A,heap_size,key)\n",
    "\n",
    "A = {1:16,2:4,3:10,4:14,5:7,6:9,7:3,8:2,9:8,10:1}\n",
    "build_min_heap(A)\n",
    "heap_insert(A,5)\n",
    "heap_insert(A,17)\n",
    "A"
   ]
  },
  {
   "cell_type": "code",
   "execution_count": null,
   "metadata": {},
   "outputs": [
    {
     "data": {
      "text/plain": [
       "({0: 0, 1: 8, 2: 9, 3: 5, 4: 7}, {0: None, 1: 3, 2: 1, 3: 0, 4: 3})"
      ]
     },
     "metadata": {},
     "output_type": "display_data"
    }
   ],
   "source": [
    "class ArrayPriorityQueue:\n",
    "\n",
    "    def __init__(self):\n",
    "        self.A = {}\n",
    "    \n",
    "    def insert(self,label,key):\n",
    "        self.A[label] = key\n",
    "    \n",
    "    def extract_min(self):\n",
    "        min_label = None\n",
    "        for label in self.A:\n",
    "            if min_label is None or self.A[label] < self.A[min_label]:\n",
    "                min_label = label\n",
    "        del self.A[min_label]\n",
    "        return min_label\n",
    "\n",
    "    def decrease(self,label,key):\n",
    "        if label in self.A and self.A[label] > key:\n",
    "            self.A[label] = key\n",
    "\n",
    "w = {0:{1:10,3:5},\n",
    "      1:{2:1,3:2},\n",
    "      2:{4:4},\n",
    "      3:{1:3,2:9,4:2},\n",
    "      4:{0:7,2:6}}\n",
    "\n",
    "Adj = {0:[1,3],\n",
    "       1:[2,3],\n",
    "       2:[4],\n",
    "       3:[1,2,4],\n",
    "       4:[0,2]}\n",
    "\n",
    "V = [0,1,2,3,4]\n",
    "\n",
    "def dijkstra(V,Adj,w,s):\n",
    "       parent, d = init_single_source(V,s)\n",
    "       Q = ArrayPriorityQueue()\n",
    "       for v in V:\n",
    "              Q.insert(v,d[v])\n",
    "       for _ in V:\n",
    "              u = Q.extract_min()\n",
    "              for v in Adj[u]:\n",
    "                     if d[v] > d[u] + w[u][v]:\n",
    "                            d[v] = d[u] + w[u][v]\n",
    "                            parent[v] = u\n",
    "                            Q.decrease(v,d[v])\n",
    "       return d,parent\n",
    "\n",
    "dijkstra(V,Adj,w,s=0)"
   ]
  },
  {
   "cell_type": "markdown",
   "metadata": {},
   "source": [
    "#### APSP (Runtime: O(V^4))"
   ]
  },
  {
   "cell_type": "code",
   "execution_count": null,
   "metadata": {},
   "outputs": [
    {
     "data": {
      "text/plain": [
       "[[0, 1, -3, 2, -4],\n",
       " [3, 0, -4, 1, -1],\n",
       " [7, 4, 0, 5, 3],\n",
       " [2, -1, -5, 0, -2],\n",
       " [8, 5, 1, 6, 0]]"
      ]
     },
     "metadata": {},
     "output_type": "display_data"
    }
   ],
   "source": [
    "inf = float('inf')\n",
    "from copy import copy, deepcopy\n",
    "\n",
    "w = [[0,3,8,inf,-4],\n",
    "     [inf,0,inf,1,7],\n",
    "     [inf,4,0,inf,inf],\n",
    "     [2,inf,-5,0,inf],\n",
    "     [inf,inf,inf,6,0]]\n",
    "\n",
    "def slow_APSP(w):\n",
    "    n = len(w[0])\n",
    "    d = [rows[:] for rows in w]\n",
    "    for m in range(n):\n",
    "        for u in range(n):\n",
    "            for v in range(n):\n",
    "                for x in range(n): # Guessing: last edge in the path u ~~~> x -> v; Since we don't what is the last edge, so we try them all.\n",
    "                    if d[u][v] > d[u][x] + d[x][v]: # Shortest path should follow triangle inequality\n",
    "                        d[u][v] = d[u][x] + d[x][v]\n",
    "    return d\n",
    "\n",
    "slow_APSP(w) # O(V^4) Negative weighted exist <=> negative diagonal entry"
   ]
  },
  {
   "cell_type": "markdown",
   "metadata": {},
   "source": [
    "#### Floyd-Warshall Algorithm (Application: Dense Graph; Runtime: O((V^3))"
   ]
  },
  {
   "cell_type": "code",
   "execution_count": null,
   "metadata": {},
   "outputs": [
    {
     "data": {
      "text/plain": [
       "[[0, 1, -3, 2, -4],\n",
       " [3, 0, -4, 1, -1],\n",
       " [7, 4, 0, 5, 3],\n",
       " [2, -1, -5, 0, -2],\n",
       " [8, 5, 1, 6, 0]]"
      ]
     },
     "metadata": {},
     "output_type": "display_data"
    }
   ],
   "source": [
    "inf = float('inf')\n",
    "from copy import copy, deepcopy\n",
    "\n",
    "w = [[0,3,8,inf,-4],\n",
    "     [inf,0,inf,1,7],\n",
    "     [inf,4,0,inf,inf],\n",
    "     [2,inf,-5,0,inf],\n",
    "     [inf,inf,inf,6,0]]\n",
    "\n",
    "def floyd_warshall(w):\n",
    "    n = len(w[0])\n",
    "    c = [row[:] for row in w]\n",
    "    # c = list(map(lambda w:w[:],w))\n",
    "    # c = deepcopy(w)\n",
    "    for k in range(n):\n",
    "        for u in range(n):\n",
    "            for v in range(n):\n",
    "                if c[u][v] > c[u][k] + c[k][v]:\n",
    "                    c[u][v] = c[u][k] + c[k][v]\n",
    "    return c\n",
    "\n",
    "floyd_warshall(w)"
   ]
  },
  {
   "cell_type": "markdown",
   "metadata": {},
   "source": [
    "#### Johnson Algorithm (Application: Sparse Graph; Runtime: O((VE + V^2Log(V)))"
   ]
  },
  {
   "cell_type": "code",
   "execution_count": null,
   "metadata": {},
   "outputs": [
    {
     "data": {
      "text/plain": [
       "[[inf, inf, inf, inf, inf, inf],\n",
       " [inf, 0, 1, -3, 2, -4],\n",
       " [inf, 3, 0, -4, 1, -1],\n",
       " [inf, 7, 4, 0, 5, 3],\n",
       " [inf, 2, -1, -5, 0, -2],\n",
       " [inf, 8, 5, 1, 6, 0]]"
      ]
     },
     "metadata": {},
     "output_type": "display_data"
    }
   ],
   "source": [
    "inf = float('inf')\n",
    "\n",
    "w = {1:{2:3,3:8,5:-4},\n",
    "     2:{4:1,5:7},\n",
    "     3:{2:4},\n",
    "     4:{1:2,3:-5},\n",
    "     5:{4:6}}\n",
    "\n",
    "Adj = {1:[2,3,5],\n",
    "     2:[4,5],\n",
    "     3:[2],\n",
    "     4:[1,3],\n",
    "     5:[4]}\n",
    "\n",
    "V = [1,2,3,4,5]\n",
    "\n",
    "def jonhson(Adj,w,V,s=0):\n",
    "     Vp = [s] + V\n",
    "     n = len(Vp)\n",
    "     Adj_p = {0:V}\n",
    "     Adj_p.update(Adj)\n",
    "     wp = {0:{i:0 for i in V}}\n",
    "     wp.update(w)\n",
    "     if bellman_ford(Vp,Adj_p,wp,s=0) == False:\n",
    "          raise Exception(\"There's negative weighted cycle.\")\n",
    "     else:\n",
    "          h, _ =  bellman_ford(Vp,Adj_p,wp,s=0)\n",
    "          w_new = {j:{i:None for i in Vp} for j in Vp}\n",
    "          for u in Vp:\n",
    "               for v in Adj_p[u]:\n",
    "                    w_new[u][v] = wp[u][v] + h[u] - h[v]\n",
    "          d = [[inf for i in Vp] for j in Vp]\n",
    "          delta = {}\n",
    "          for u in V:\n",
    "               delta[u], _ = dijkstra(V,Adj,w_new,u)\n",
    "               for v in V:\n",
    "                    d[u][v] = delta[u][v] + h[v] - h[u]\n",
    "          return d\n",
    "\n",
    "jonhson(Adj,w,V,s=0)"
   ]
  },
  {
   "cell_type": "markdown",
   "metadata": {},
   "source": [
    "#### Kruskal's Algorithm (Find Minimum Spanning Tree; Runtime: Base on sorting(E) algorithm O(Elog(V) if sorting take O(ELogE)))"
   ]
  },
  {
   "cell_type": "code",
   "execution_count": null,
   "metadata": {},
   "outputs": [
    {
     "data": {
      "text/plain": [
       "[(6, 7, 1),\n",
       " (2, 4, 2),\n",
       " (7, 8, 2),\n",
       " (0, 1, 4),\n",
       " (2, 8, 4),\n",
       " (2, 3, 7),\n",
       " (0, 6, 8),\n",
       " (3, 5, 9)]"
      ]
     },
     "metadata": {},
     "output_type": "display_data"
    }
   ],
   "source": [
    "### Disjoint-Set Data Structure (or called Union-Find Data Structure or Merge-Find Set)\n",
    "\n",
    "class DisjointSetForest():\n",
    "    rank = {}\n",
    "    p = {}\n",
    "\n",
    "    def make_set(self,x):\n",
    "        self.p[x] = x\n",
    "        self.rank[x] = 0\n",
    "\n",
    "    def union(self,u,v):\n",
    "        x,y = self.find_set(u),self.find_set(v)\n",
    "        if self.rank[x] > self.rank[y]:\n",
    "            self.p[y] = x\n",
    "        else:\n",
    "            self.p[x] = y\n",
    "            if self.rank[x] == self.rank[y]:\n",
    "                self.rank[y] = self.rank[y] + 1\n",
    "\n",
    "    def find_set(self,x):\n",
    "        if x != self.p[x]:\n",
    "            self.p[x] = self.find_set(self.p[x])\n",
    "        return self.p[x]\n",
    "\n",
    "### Radix Sorting: Sorting integer in linear time O(E) or O(ELog(E)) otherwise\n",
    "\n",
    "\n",
    "### Kruskal's Algorithm\n",
    "inf = float(\"inf\")\n",
    "\n",
    "V = [i for i in range(9)]\n",
    "\n",
    "w = {0:{1:4,6:8},\n",
    "    1:{0:4,2:8,6:11},\n",
    "    2:{1:8,3:7,4:2,8:4},\n",
    "    3:{2:7,5:9,8:14},\n",
    "    4:{2:2,6:7,7:6},\n",
    "    5:{3:9,8:10},\n",
    "    6:{0:8,1:11,4:7,7:1},\n",
    "    7:{4:6,6:1,8:2},\n",
    "    8:{2:4,3:14,5:10,7:2}}\n",
    "\n",
    "Adj = {0:[1,6],\n",
    "    1:[0,2,6],\n",
    "    2:[1,3,4,8],\n",
    "    3:[2,5,8],\n",
    "    4:[2,6,7],\n",
    "    5:[3,8],\n",
    "    6:[0,1,4,7],\n",
    "    7:[4,6,8],\n",
    "    8:[2,3,5,7]}\n",
    "\n",
    "E = [(0,1,4),(0,6,8),\n",
    "    (1,0,4),(1,2,8),(1,6,11),\n",
    "    (2,1,8),(2,3,7),(2,4,2),(2,8,4),\n",
    "    (3,2,7),(3,5,9),(3,8,14),\n",
    "    (4,2,2),(4,6,7),(4,7,6),\n",
    "    (5,3,9),(5,8,10),\n",
    "    (6,0,8),(6,1,11),(6,4,7),(6,7,1),\n",
    "    (7,4,6),(7,6,1),(7,8,2),\n",
    "    (8,2,4),(8,3,14),(8,5,10),(8,7,2)]\n",
    "\n",
    "def kruskal(V,E):\n",
    "    MST = []\n",
    "    S = DisjointSetForest()\n",
    "    for v in V:\n",
    "        S.make_set(v)\n",
    "    E.sort(key=lambda x: x[2])\n",
    "    for u,v,w in E:\n",
    "        if S.find_set(u) != S.find_set(v):\n",
    "            MST.append((u,v,w))\n",
    "            S.union(u,v)\n",
    "    return MST\n",
    "\n",
    "kruskal(V,E)"
   ]
  },
  {
   "cell_type": "markdown",
   "metadata": {},
   "source": [
    "#### Prim's Algorithm (Runtime: Same as Dijkstra's Algorithm)"
   ]
  },
  {
   "cell_type": "code",
   "execution_count": null,
   "metadata": {},
   "outputs": [
    {
     "data": {
      "text/plain": [
       "(37, {0: 1, 1: None, 2: 1, 3: 2, 4: 2, 5: 3, 6: 7, 7: 8, 8: 2})"
      ]
     },
     "metadata": {},
     "output_type": "display_data"
    }
   ],
   "source": [
    "inf = float(\"inf\")\n",
    "\n",
    "w = {0:{1:4,6:8},\n",
    "    1:{0:4,2:8,6:11},\n",
    "    2:{1:8,3:7,4:2,8:4},\n",
    "    3:{2:7,5:9,8:14},\n",
    "    4:{2:2,6:7,7:6},\n",
    "    5:{3:9,8:10},\n",
    "    6:{0:8,1:11,4:7,7:1},\n",
    "    7:{4:6,6:1,8:2},\n",
    "    8:{2:4,3:14,5:10,7:2}}\n",
    "\n",
    "# w = {1:{2:2,3:3,4:4},\n",
    "#           2:{1:2},\n",
    "#           3:{1:3,7:5,4:6},\n",
    "#           4:{1:4,3:6,5:7},\n",
    "#           5:{4:7,6:8},\n",
    "#           6:{5:8,7:9},\n",
    "#           7:{6:9,3:5}}\n",
    "\n",
    "def prim(w,r):\n",
    "    S = []\n",
    "    d = {}\n",
    "    parent = {}\n",
    "    for u in w.keys():\n",
    "        d[u] = inf\n",
    "        parent[u] = None\n",
    "    d[r] = 0\n",
    "    Q = ArrayPriorityQueue()\n",
    "    for v in w.keys():\n",
    "        Q.insert(v,d[v])\n",
    "    for _ in w.keys():\n",
    "        u = Q.extract_min()\n",
    "        S.append(u) # Delete u from Q and add it into S\n",
    "        for v in w[u]:\n",
    "            if v not in S and d[v] > w[u][v]: # Must be guarantee that the new edge was not add before.\n",
    "                d[v] = w[u][v]\n",
    "                parent[v] = u\n",
    "                Q.decrease(v,d[v])\n",
    "    return sum(d.values()), parent\n",
    "\n",
    "prim(w,r=1) # the root r could be any vertex of the graph"
   ]
  }
 ],
 "metadata": {
  "language_info": {
   "name": "python"
  }
 },
 "nbformat": 4,
 "nbformat_minor": 2
}
