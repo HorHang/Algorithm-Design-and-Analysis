{
 "cells": [
  {
   "cell_type": "markdown",
   "metadata": {},
   "source": [
    "## Greedy Algorithms"
   ]
  },
  {
   "cell_type": "markdown",
   "metadata": {},
   "source": [
    "#### Activities Selection Problem"
   ]
  },
  {
   "cell_type": "code",
   "execution_count": null,
   "metadata": {},
   "outputs": [],
   "source": [
    "def recursive_activities_sel(s,f,k,n):\n",
    "    m = k + 1\n",
    "    A = {0:'a0',1:'a1',2:'a2',3:'a3',4:'a4',5:'a5',6:'a6',7:'a7',8:'a8',9:'a9',10:'a10',11:'a11'}\n",
    "    while m <= n and s[m] < f[k]:\n",
    "        m += 1\n",
    "    if m <= n:\n",
    "        return A[m] + \"-\" + recursive_activities_sel(s,f,m,n)\n",
    "    else:\n",
    "        return 'a0'\n",
    "s = [1, 3, 0, 5, 3, 5, 6, 8, 8, 2, 12, 14, 15]\n",
    "f = [4, 5, 6, 7, 9, 9, 10, 11, 12, 14, 16, 17, 17]\n",
    "recursive_activities_sel(s,f,0,12)"
   ]
  },
  {
   "cell_type": "code",
   "execution_count": null,
   "metadata": {},
   "outputs": [],
   "source": [
    "def greedy_activity_sel(s,f):\n",
    "    n = len(s)\n",
    "    A = {'a0'}\n",
    "    k = 1\n",
    "    for m in range(1,n):\n",
    "        if s[m] >= f[k]:\n",
    "            A.add('a' + str(m)) # Union in-place\n",
    "            k = m\n",
    "    return A\n",
    "greedy_activity_sel(s,f)"
   ]
  },
  {
   "cell_type": "code",
   "execution_count": null,
   "metadata": {},
   "outputs": [
    {
     "data": {
      "text/plain": [
       "[(1, 4), (5, 7), (8, 11), (12, 16)]"
      ]
     },
     "metadata": {},
     "output_type": "display_data"
    }
   ],
   "source": [
    "inf = float('inf')\n",
    "\n",
    "task = [[1,4],[3,5],[0,6],[5,7],[3,8],[5,9],[6,10],[8,11],[8,12],[2,14],[12,16]]\n",
    "\n",
    "task2 = [[5, 9], [1, 2], [3, 4], [0, 6], [5, 7], [8, 9]]\n",
    "\n",
    "def activity_sel_DP(task):\n",
    "    task.sort(key=lambda x: x[1])\n",
    "    s = [0] + list(map(lambda x:x[0],task)) + [inf]\n",
    "    f = [0] + list(map(lambda x:x[1],task)) + [inf]\n",
    "    n = len(s)\n",
    "    c = [(0,0)]\n",
    "    i,j = 0,0\n",
    "    while i < n:\n",
    "        while j < n:\n",
    "            for k in range(i,j):\n",
    "                if s[k] > c[-1][1] and f[k] < s[j]:\n",
    "                    c.append((s[k],f[k]))\n",
    "                    i = k\n",
    "            j += 1\n",
    "        i += 1\n",
    "    return c[1:]\n",
    "\n",
    "activity_sel_DP(task)"
   ]
  },
  {
   "cell_type": "code",
   "execution_count": null,
   "metadata": {},
   "outputs": [
    {
     "data": {
      "text/plain": [
       "[(1, 4), (5, 7), (8, 11), (12, 16)]"
      ]
     },
     "metadata": {},
     "output_type": "display_data"
    }
   ],
   "source": [
    "inf = float('inf')\n",
    "\n",
    "task = [[1,4],[3,5],[0,6],[5,7],[3,8],[5,9],[6,10],[8,11],[8,12],[2,14],[12,16],[1,2]]\n",
    "\n",
    "task2 = [[5, 9], [1, 2], [3, 4], [0, 6], [5, 7], [8, 9]]\n",
    "\n",
    "def activity_sel_DP(task):\n",
    "    # task.sort(key=lambda x: x[1])\n",
    "    s = list(map(lambda x:x[0],task)) + [inf]\n",
    "    f = list(map(lambda x:x[1],task)) + [inf]\n",
    "    n = len(s)\n",
    "    c = [(0,0)]\n",
    "    i,j = 0,0\n",
    "    while i < n:\n",
    "        while j < n:\n",
    "            for k in range(i,j):\n",
    "                if s[k] > c[-1][1] and f[k] < s[j]:\n",
    "                    c.append((s[k],f[k]))\n",
    "                    i = k\n",
    "            j += 1\n",
    "        i += 1\n",
    "    return c[1:]\n",
    "\n",
    "activity_sel_DP(task)"
   ]
  },
  {
   "cell_type": "markdown",
   "metadata": {},
   "source": [
    "# TODO"
   ]
  },
  {
   "cell_type": "markdown",
   "metadata": {},
   "source": [
    "#### Huffman Code"
   ]
  },
  {
   "cell_type": "markdown",
   "metadata": {},
   "source": [
    "#### Weighted Job Scheduling"
   ]
  },
  {
   "cell_type": "markdown",
   "metadata": {},
   "source": [
    "#### Knapsack Problem"
   ]
  },
  {
   "cell_type": "markdown",
   "metadata": {},
   "source": [
    "#### Offline Caching (Optional)"
   ]
  }
 ],
 "metadata": {
  "language_info": {
   "name": "python"
  }
 },
 "nbformat": 4,
 "nbformat_minor": 2
}
